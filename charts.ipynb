{
 "cells": [
  {
   "cell_type": "code",
   "execution_count": 45,
   "metadata": {},
   "outputs": [],
   "source": [
    "# Import Dependencies\n",
    "import pandas as pd\n",
    "from pathlib import Path\n",
    "import matplotlib.pyplot as plt\n",
    "import numpy as np\n",
    "from scipy.stats import f_oneway"
   ]
  },
  {
   "cell_type": "code",
   "execution_count": 3,
   "metadata": {},
   "outputs": [
    {
     "data": {
      "text/html": [
       "<div>\n",
       "<style scoped>\n",
       "    .dataframe tbody tr th:only-of-type {\n",
       "        vertical-align: middle;\n",
       "    }\n",
       "\n",
       "    .dataframe tbody tr th {\n",
       "        vertical-align: top;\n",
       "    }\n",
       "\n",
       "    .dataframe thead th {\n",
       "        text-align: right;\n",
       "    }\n",
       "</style>\n",
       "<table border=\"1\" class=\"dataframe\">\n",
       "  <thead>\n",
       "    <tr style=\"text-align: right;\">\n",
       "      <th></th>\n",
       "      <th>id</th>\n",
       "      <th>name</th>\n",
       "      <th>num_bedrooms</th>\n",
       "      <th>bedroom_type</th>\n",
       "      <th>num_of_beds</th>\n",
       "      <th>num_of_bathrooms</th>\n",
       "      <th>bathroom_type</th>\n",
       "      <th>host_name</th>\n",
       "      <th>neighbourhood_group</th>\n",
       "      <th>neighbourhood</th>\n",
       "      <th>...</th>\n",
       "      <th>room_type</th>\n",
       "      <th>price</th>\n",
       "      <th>minimum_nights</th>\n",
       "      <th>number_of_reviews</th>\n",
       "      <th>last_review</th>\n",
       "      <th>reviews_per_month</th>\n",
       "      <th>calculated_host_listings_count</th>\n",
       "      <th>availability_365</th>\n",
       "      <th>number_of_reviews_ltm</th>\n",
       "      <th>license</th>\n",
       "    </tr>\n",
       "  </thead>\n",
       "  <tbody>\n",
       "    <tr>\n",
       "      <th>0</th>\n",
       "      <td>51864768.0</td>\n",
       "      <td>Hotel in New York</td>\n",
       "      <td>1</td>\n",
       "      <td>bedroom</td>\n",
       "      <td>2</td>\n",
       "      <td>1.0</td>\n",
       "      <td>private</td>\n",
       "      <td>Millennium Broadway</td>\n",
       "      <td>Manhattan</td>\n",
       "      <td>Theater District</td>\n",
       "      <td>...</td>\n",
       "      <td>Private room</td>\n",
       "      <td>185</td>\n",
       "      <td>1</td>\n",
       "      <td>761</td>\n",
       "      <td>1/5/2024</td>\n",
       "      <td>27.88</td>\n",
       "      <td>6</td>\n",
       "      <td>0</td>\n",
       "      <td>463</td>\n",
       "      <td>Exempt</td>\n",
       "    </tr>\n",
       "    <tr>\n",
       "      <th>1</th>\n",
       "      <td>35545434.0</td>\n",
       "      <td>Boutique hotel in New York</td>\n",
       "      <td>1</td>\n",
       "      <td>bedroom</td>\n",
       "      <td>1</td>\n",
       "      <td>1.0</td>\n",
       "      <td>private</td>\n",
       "      <td>Chelsea Inn Hotel</td>\n",
       "      <td>Manhattan</td>\n",
       "      <td>Chelsea</td>\n",
       "      <td>...</td>\n",
       "      <td>Private room</td>\n",
       "      <td>145</td>\n",
       "      <td>1</td>\n",
       "      <td>717</td>\n",
       "      <td>1/5/2024</td>\n",
       "      <td>14.61</td>\n",
       "      <td>5</td>\n",
       "      <td>0</td>\n",
       "      <td>90</td>\n",
       "      <td>Exempt</td>\n",
       "    </tr>\n",
       "    <tr>\n",
       "      <th>2</th>\n",
       "      <td>51864614.0</td>\n",
       "      <td>Hotel in New York</td>\n",
       "      <td>1</td>\n",
       "      <td>bedroom</td>\n",
       "      <td>1</td>\n",
       "      <td>1.0</td>\n",
       "      <td>private</td>\n",
       "      <td>Millennium Broadway</td>\n",
       "      <td>Manhattan</td>\n",
       "      <td>Theater District</td>\n",
       "      <td>...</td>\n",
       "      <td>Private room</td>\n",
       "      <td>153</td>\n",
       "      <td>1</td>\n",
       "      <td>341</td>\n",
       "      <td>1/5/2024</td>\n",
       "      <td>12.18</td>\n",
       "      <td>6</td>\n",
       "      <td>0</td>\n",
       "      <td>292</td>\n",
       "      <td>Exempt</td>\n",
       "    </tr>\n",
       "    <tr>\n",
       "      <th>3</th>\n",
       "      <td>54068618.0</td>\n",
       "      <td>Condo in New York</td>\n",
       "      <td>1</td>\n",
       "      <td>bedroom</td>\n",
       "      <td>1</td>\n",
       "      <td>1.0</td>\n",
       "      <td>shared</td>\n",
       "      <td>Trenton</td>\n",
       "      <td>Manhattan</td>\n",
       "      <td>East Harlem</td>\n",
       "      <td>...</td>\n",
       "      <td>Private room</td>\n",
       "      <td>60</td>\n",
       "      <td>1</td>\n",
       "      <td>132</td>\n",
       "      <td>1/5/2024</td>\n",
       "      <td>5.40</td>\n",
       "      <td>1</td>\n",
       "      <td>216</td>\n",
       "      <td>70</td>\n",
       "      <td>OSE-STRREG-0000691</td>\n",
       "    </tr>\n",
       "    <tr>\n",
       "      <th>4</th>\n",
       "      <td>29831517.0</td>\n",
       "      <td>Home in Brooklyn</td>\n",
       "      <td>1</td>\n",
       "      <td>bedroom</td>\n",
       "      <td>1</td>\n",
       "      <td>1.0</td>\n",
       "      <td>private</td>\n",
       "      <td>Rena</td>\n",
       "      <td>Brooklyn</td>\n",
       "      <td>Canarsie</td>\n",
       "      <td>...</td>\n",
       "      <td>Private room</td>\n",
       "      <td>71</td>\n",
       "      <td>2</td>\n",
       "      <td>325</td>\n",
       "      <td>1/5/2024</td>\n",
       "      <td>5.25</td>\n",
       "      <td>1</td>\n",
       "      <td>136</td>\n",
       "      <td>62</td>\n",
       "      <td>OSE-STRREG-0000173</td>\n",
       "    </tr>\n",
       "    <tr>\n",
       "      <th>...</th>\n",
       "      <td>...</td>\n",
       "      <td>...</td>\n",
       "      <td>...</td>\n",
       "      <td>...</td>\n",
       "      <td>...</td>\n",
       "      <td>...</td>\n",
       "      <td>...</td>\n",
       "      <td>...</td>\n",
       "      <td>...</td>\n",
       "      <td>...</td>\n",
       "      <td>...</td>\n",
       "      <td>...</td>\n",
       "      <td>...</td>\n",
       "      <td>...</td>\n",
       "      <td>...</td>\n",
       "      <td>...</td>\n",
       "      <td>...</td>\n",
       "      <td>...</td>\n",
       "      <td>...</td>\n",
       "      <td>...</td>\n",
       "      <td>...</td>\n",
       "    </tr>\n",
       "    <tr>\n",
       "      <th>20144</th>\n",
       "      <td>403712.0</td>\n",
       "      <td>Rental unit in New York</td>\n",
       "      <td>1</td>\n",
       "      <td>bedroom</td>\n",
       "      <td>1</td>\n",
       "      <td>1.0</td>\n",
       "      <td>bath</td>\n",
       "      <td>Giovanni</td>\n",
       "      <td>Manhattan</td>\n",
       "      <td>East Village</td>\n",
       "      <td>...</td>\n",
       "      <td>Entire home/apt</td>\n",
       "      <td>300</td>\n",
       "      <td>30</td>\n",
       "      <td>6</td>\n",
       "      <td>10/29/2012</td>\n",
       "      <td>0.04</td>\n",
       "      <td>1</td>\n",
       "      <td>0</td>\n",
       "      <td>0</td>\n",
       "      <td>NaN</td>\n",
       "    </tr>\n",
       "    <tr>\n",
       "      <th>20145</th>\n",
       "      <td>75658.0</td>\n",
       "      <td>Loft in Brooklyn</td>\n",
       "      <td>1</td>\n",
       "      <td>bedroom</td>\n",
       "      <td>1</td>\n",
       "      <td>1.0</td>\n",
       "      <td>shared</td>\n",
       "      <td>Noemi</td>\n",
       "      <td>Brooklyn</td>\n",
       "      <td>Bedford-Stuyvesant</td>\n",
       "      <td>...</td>\n",
       "      <td>Private room</td>\n",
       "      <td>221</td>\n",
       "      <td>30</td>\n",
       "      <td>20</td>\n",
       "      <td>9/30/2012</td>\n",
       "      <td>0.13</td>\n",
       "      <td>1</td>\n",
       "      <td>364</td>\n",
       "      <td>0</td>\n",
       "      <td>NaN</td>\n",
       "    </tr>\n",
       "    <tr>\n",
       "      <th>20146</th>\n",
       "      <td>513343.0</td>\n",
       "      <td>Rental unit in Brooklyn</td>\n",
       "      <td>1</td>\n",
       "      <td>bedroom</td>\n",
       "      <td>2</td>\n",
       "      <td>1.0</td>\n",
       "      <td>bath</td>\n",
       "      <td>Dennis</td>\n",
       "      <td>Brooklyn</td>\n",
       "      <td>Prospect Heights</td>\n",
       "      <td>...</td>\n",
       "      <td>Entire home/apt</td>\n",
       "      <td>125</td>\n",
       "      <td>30</td>\n",
       "      <td>1</td>\n",
       "      <td>7/11/2012</td>\n",
       "      <td>0.01</td>\n",
       "      <td>1</td>\n",
       "      <td>298</td>\n",
       "      <td>0</td>\n",
       "      <td>NaN</td>\n",
       "    </tr>\n",
       "    <tr>\n",
       "      <th>20147</th>\n",
       "      <td>456578.0</td>\n",
       "      <td>Rental unit in New York</td>\n",
       "      <td>1</td>\n",
       "      <td>bedroom</td>\n",
       "      <td>1</td>\n",
       "      <td>1.0</td>\n",
       "      <td>shared</td>\n",
       "      <td>Helen</td>\n",
       "      <td>Manhattan</td>\n",
       "      <td>Washington Heights</td>\n",
       "      <td>...</td>\n",
       "      <td>Private room</td>\n",
       "      <td>100</td>\n",
       "      <td>30</td>\n",
       "      <td>1</td>\n",
       "      <td>6/1/2012</td>\n",
       "      <td>0.01</td>\n",
       "      <td>1</td>\n",
       "      <td>87</td>\n",
       "      <td>0</td>\n",
       "      <td>NaN</td>\n",
       "    </tr>\n",
       "    <tr>\n",
       "      <th>20148</th>\n",
       "      <td>27883.0</td>\n",
       "      <td>Rental unit in New York</td>\n",
       "      <td>1</td>\n",
       "      <td>Studio</td>\n",
       "      <td>2</td>\n",
       "      <td>1.0</td>\n",
       "      <td>bath</td>\n",
       "      <td>Jen</td>\n",
       "      <td>Manhattan</td>\n",
       "      <td>East Village</td>\n",
       "      <td>...</td>\n",
       "      <td>Entire home/apt</td>\n",
       "      <td>100</td>\n",
       "      <td>30</td>\n",
       "      <td>25</td>\n",
       "      <td>12/10/2011</td>\n",
       "      <td>0.15</td>\n",
       "      <td>1</td>\n",
       "      <td>0</td>\n",
       "      <td>0</td>\n",
       "      <td>NaN</td>\n",
       "    </tr>\n",
       "  </tbody>\n",
       "</table>\n",
       "<p>20149 rows × 22 columns</p>\n",
       "</div>"
      ],
      "text/plain": [
       "               id                        name  num_bedrooms bedroom_type  \\\n",
       "0      51864768.0           Hotel in New York             1      bedroom   \n",
       "1      35545434.0  Boutique hotel in New York             1      bedroom   \n",
       "2      51864614.0           Hotel in New York             1      bedroom   \n",
       "3      54068618.0           Condo in New York             1      bedroom   \n",
       "4      29831517.0            Home in Brooklyn             1      bedroom   \n",
       "...           ...                         ...           ...          ...   \n",
       "20144    403712.0     Rental unit in New York             1      bedroom   \n",
       "20145     75658.0            Loft in Brooklyn             1      bedroom   \n",
       "20146    513343.0    Rental unit in Brooklyn              1      bedroom   \n",
       "20147    456578.0    Rental unit in New York              1      bedroom   \n",
       "20148     27883.0     Rental unit in New York             1      Studio    \n",
       "\n",
       "       num_of_beds  num_of_bathrooms bathroom_type            host_name  \\\n",
       "0                2               1.0       private  Millennium Broadway   \n",
       "1                1               1.0       private    Chelsea Inn Hotel   \n",
       "2                1               1.0       private  Millennium Broadway   \n",
       "3                1               1.0        shared              Trenton   \n",
       "4                1               1.0       private                 Rena   \n",
       "...            ...               ...           ...                  ...   \n",
       "20144            1               1.0          bath             Giovanni   \n",
       "20145            1               1.0        shared                Noemi   \n",
       "20146            2               1.0          bath               Dennis   \n",
       "20147            1               1.0        shared                Helen   \n",
       "20148            2               1.0          bath                  Jen   \n",
       "\n",
       "      neighbourhood_group       neighbourhood  ...        room_type  price  \\\n",
       "0               Manhattan    Theater District  ...     Private room    185   \n",
       "1               Manhattan             Chelsea  ...     Private room    145   \n",
       "2               Manhattan    Theater District  ...     Private room    153   \n",
       "3               Manhattan         East Harlem  ...     Private room     60   \n",
       "4                Brooklyn            Canarsie  ...     Private room     71   \n",
       "...                   ...                 ...  ...              ...    ...   \n",
       "20144           Manhattan        East Village  ...  Entire home/apt    300   \n",
       "20145            Brooklyn  Bedford-Stuyvesant  ...     Private room    221   \n",
       "20146            Brooklyn    Prospect Heights  ...  Entire home/apt    125   \n",
       "20147           Manhattan  Washington Heights  ...     Private room    100   \n",
       "20148           Manhattan        East Village  ...  Entire home/apt    100   \n",
       "\n",
       "      minimum_nights  number_of_reviews  last_review  reviews_per_month  \\\n",
       "0                  1                761     1/5/2024              27.88   \n",
       "1                  1                717     1/5/2024              14.61   \n",
       "2                  1                341     1/5/2024              12.18   \n",
       "3                  1                132     1/5/2024               5.40   \n",
       "4                  2                325     1/5/2024               5.25   \n",
       "...              ...                ...          ...                ...   \n",
       "20144             30                  6   10/29/2012               0.04   \n",
       "20145             30                 20    9/30/2012               0.13   \n",
       "20146             30                  1    7/11/2012               0.01   \n",
       "20147             30                  1     6/1/2012               0.01   \n",
       "20148             30                 25   12/10/2011               0.15   \n",
       "\n",
       "      calculated_host_listings_count  availability_365  number_of_reviews_ltm  \\\n",
       "0                                  6                 0                    463   \n",
       "1                                  5                 0                     90   \n",
       "2                                  6                 0                    292   \n",
       "3                                  1               216                     70   \n",
       "4                                  1               136                     62   \n",
       "...                              ...               ...                    ...   \n",
       "20144                              1                 0                      0   \n",
       "20145                              1               364                      0   \n",
       "20146                              1               298                      0   \n",
       "20147                              1                87                      0   \n",
       "20148                              1                 0                      0   \n",
       "\n",
       "                  license  \n",
       "0                  Exempt  \n",
       "1                  Exempt  \n",
       "2                  Exempt  \n",
       "3      OSE-STRREG-0000691  \n",
       "4      OSE-STRREG-0000173  \n",
       "...                   ...  \n",
       "20144                 NaN  \n",
       "20145                 NaN  \n",
       "20146                 NaN  \n",
       "20147                 NaN  \n",
       "20148                 NaN  \n",
       "\n",
       "[20149 rows x 22 columns]"
      ]
     },
     "execution_count": 3,
     "metadata": {},
     "output_type": "execute_result"
    }
   ],
   "source": [
    "# Retrieve file path\n",
    "file_path = Path('listings.csv')\n",
    "# Read csv\n",
    "airbnb_df = pd.read_csv(file_path)\n",
    "# Display dataframe\n",
    "airbnb_df"
   ]
  },
  {
   "cell_type": "code",
   "execution_count": 4,
   "metadata": {},
   "outputs": [
    {
     "data": {
      "text/html": [
       "<div>\n",
       "<style scoped>\n",
       "    .dataframe tbody tr th:only-of-type {\n",
       "        vertical-align: middle;\n",
       "    }\n",
       "\n",
       "    .dataframe tbody tr th {\n",
       "        vertical-align: top;\n",
       "    }\n",
       "\n",
       "    .dataframe thead th {\n",
       "        text-align: right;\n",
       "    }\n",
       "</style>\n",
       "<table border=\"1\" class=\"dataframe\">\n",
       "  <thead>\n",
       "    <tr style=\"text-align: right;\">\n",
       "      <th></th>\n",
       "      <th>id</th>\n",
       "      <th>name</th>\n",
       "      <th>num_bedrooms</th>\n",
       "      <th>bedroom_type</th>\n",
       "      <th>num_of_beds</th>\n",
       "      <th>num_of_bathrooms</th>\n",
       "      <th>bathroom_type</th>\n",
       "      <th>host_name</th>\n",
       "      <th>neighborhood_group</th>\n",
       "      <th>neighborhood</th>\n",
       "      <th>...</th>\n",
       "      <th>room_type</th>\n",
       "      <th>price</th>\n",
       "      <th>minimum_nights</th>\n",
       "      <th>number_of_reviews</th>\n",
       "      <th>last_review</th>\n",
       "      <th>reviews_per_month</th>\n",
       "      <th>calculated_host_listings_count</th>\n",
       "      <th>availability_365</th>\n",
       "      <th>number_of_reviews_ltm</th>\n",
       "      <th>license</th>\n",
       "    </tr>\n",
       "  </thead>\n",
       "  <tbody>\n",
       "    <tr>\n",
       "      <th>0</th>\n",
       "      <td>51864768.0</td>\n",
       "      <td>Hotel in New York</td>\n",
       "      <td>1</td>\n",
       "      <td>bedroom</td>\n",
       "      <td>2</td>\n",
       "      <td>1.0</td>\n",
       "      <td>private</td>\n",
       "      <td>Millennium Broadway</td>\n",
       "      <td>Manhattan</td>\n",
       "      <td>Theater District</td>\n",
       "      <td>...</td>\n",
       "      <td>Private room</td>\n",
       "      <td>185</td>\n",
       "      <td>1</td>\n",
       "      <td>761</td>\n",
       "      <td>1/5/2024</td>\n",
       "      <td>27.88</td>\n",
       "      <td>6</td>\n",
       "      <td>0</td>\n",
       "      <td>463</td>\n",
       "      <td>Exempt</td>\n",
       "    </tr>\n",
       "    <tr>\n",
       "      <th>1</th>\n",
       "      <td>35545434.0</td>\n",
       "      <td>Boutique hotel in New York</td>\n",
       "      <td>1</td>\n",
       "      <td>bedroom</td>\n",
       "      <td>1</td>\n",
       "      <td>1.0</td>\n",
       "      <td>private</td>\n",
       "      <td>Chelsea Inn Hotel</td>\n",
       "      <td>Manhattan</td>\n",
       "      <td>Chelsea</td>\n",
       "      <td>...</td>\n",
       "      <td>Private room</td>\n",
       "      <td>145</td>\n",
       "      <td>1</td>\n",
       "      <td>717</td>\n",
       "      <td>1/5/2024</td>\n",
       "      <td>14.61</td>\n",
       "      <td>5</td>\n",
       "      <td>0</td>\n",
       "      <td>90</td>\n",
       "      <td>Exempt</td>\n",
       "    </tr>\n",
       "    <tr>\n",
       "      <th>2</th>\n",
       "      <td>51864614.0</td>\n",
       "      <td>Hotel in New York</td>\n",
       "      <td>1</td>\n",
       "      <td>bedroom</td>\n",
       "      <td>1</td>\n",
       "      <td>1.0</td>\n",
       "      <td>private</td>\n",
       "      <td>Millennium Broadway</td>\n",
       "      <td>Manhattan</td>\n",
       "      <td>Theater District</td>\n",
       "      <td>...</td>\n",
       "      <td>Private room</td>\n",
       "      <td>153</td>\n",
       "      <td>1</td>\n",
       "      <td>341</td>\n",
       "      <td>1/5/2024</td>\n",
       "      <td>12.18</td>\n",
       "      <td>6</td>\n",
       "      <td>0</td>\n",
       "      <td>292</td>\n",
       "      <td>Exempt</td>\n",
       "    </tr>\n",
       "    <tr>\n",
       "      <th>3</th>\n",
       "      <td>54068618.0</td>\n",
       "      <td>Condo in New York</td>\n",
       "      <td>1</td>\n",
       "      <td>bedroom</td>\n",
       "      <td>1</td>\n",
       "      <td>1.0</td>\n",
       "      <td>shared</td>\n",
       "      <td>Trenton</td>\n",
       "      <td>Manhattan</td>\n",
       "      <td>East Harlem</td>\n",
       "      <td>...</td>\n",
       "      <td>Private room</td>\n",
       "      <td>60</td>\n",
       "      <td>1</td>\n",
       "      <td>132</td>\n",
       "      <td>1/5/2024</td>\n",
       "      <td>5.40</td>\n",
       "      <td>1</td>\n",
       "      <td>216</td>\n",
       "      <td>70</td>\n",
       "      <td>OSE-STRREG-0000691</td>\n",
       "    </tr>\n",
       "    <tr>\n",
       "      <th>4</th>\n",
       "      <td>29831517.0</td>\n",
       "      <td>Home in Brooklyn</td>\n",
       "      <td>1</td>\n",
       "      <td>bedroom</td>\n",
       "      <td>1</td>\n",
       "      <td>1.0</td>\n",
       "      <td>private</td>\n",
       "      <td>Rena</td>\n",
       "      <td>Brooklyn</td>\n",
       "      <td>Canarsie</td>\n",
       "      <td>...</td>\n",
       "      <td>Private room</td>\n",
       "      <td>71</td>\n",
       "      <td>2</td>\n",
       "      <td>325</td>\n",
       "      <td>1/5/2024</td>\n",
       "      <td>5.25</td>\n",
       "      <td>1</td>\n",
       "      <td>136</td>\n",
       "      <td>62</td>\n",
       "      <td>OSE-STRREG-0000173</td>\n",
       "    </tr>\n",
       "  </tbody>\n",
       "</table>\n",
       "<p>5 rows × 22 columns</p>\n",
       "</div>"
      ],
      "text/plain": [
       "           id                        name  num_bedrooms bedroom_type  \\\n",
       "0  51864768.0           Hotel in New York             1      bedroom   \n",
       "1  35545434.0  Boutique hotel in New York             1      bedroom   \n",
       "2  51864614.0           Hotel in New York             1      bedroom   \n",
       "3  54068618.0           Condo in New York             1      bedroom   \n",
       "4  29831517.0            Home in Brooklyn             1      bedroom   \n",
       "\n",
       "   num_of_beds  num_of_bathrooms bathroom_type            host_name  \\\n",
       "0            2               1.0       private  Millennium Broadway   \n",
       "1            1               1.0       private    Chelsea Inn Hotel   \n",
       "2            1               1.0       private  Millennium Broadway   \n",
       "3            1               1.0        shared              Trenton   \n",
       "4            1               1.0       private                 Rena   \n",
       "\n",
       "  neighborhood_group      neighborhood  ...     room_type  price  \\\n",
       "0          Manhattan  Theater District  ...  Private room    185   \n",
       "1          Manhattan           Chelsea  ...  Private room    145   \n",
       "2          Manhattan  Theater District  ...  Private room    153   \n",
       "3          Manhattan       East Harlem  ...  Private room     60   \n",
       "4           Brooklyn          Canarsie  ...  Private room     71   \n",
       "\n",
       "  minimum_nights  number_of_reviews  last_review  reviews_per_month  \\\n",
       "0              1                761     1/5/2024              27.88   \n",
       "1              1                717     1/5/2024              14.61   \n",
       "2              1                341     1/5/2024              12.18   \n",
       "3              1                132     1/5/2024               5.40   \n",
       "4              2                325     1/5/2024               5.25   \n",
       "\n",
       "  calculated_host_listings_count  availability_365  number_of_reviews_ltm  \\\n",
       "0                              6                 0                    463   \n",
       "1                              5                 0                     90   \n",
       "2                              6                 0                    292   \n",
       "3                              1               216                     70   \n",
       "4                              1               136                     62   \n",
       "\n",
       "              license  \n",
       "0              Exempt  \n",
       "1              Exempt  \n",
       "2              Exempt  \n",
       "3  OSE-STRREG-0000691  \n",
       "4  OSE-STRREG-0000173  \n",
       "\n",
       "[5 rows x 22 columns]"
      ]
     },
     "execution_count": 4,
     "metadata": {},
     "output_type": "execute_result"
    }
   ],
   "source": [
    "# Fix spelling errors\n",
    "airbnb_df = airbnb_df.rename(columns={'neighbourhood_group': 'neighborhood_group',\n",
    "                          'neighbourhood': 'neighborhood'})\n",
    "airbnb_df.head()"
   ]
  },
  {
   "cell_type": "code",
   "execution_count": 5,
   "metadata": {},
   "outputs": [
    {
     "data": {
      "text/plain": [
       "0    private\n",
       "1    private\n",
       "2    private\n",
       "3     shared\n",
       "4    private\n",
       "Name: bathroom_type, dtype: object"
      ]
     },
     "execution_count": 5,
     "metadata": {},
     "output_type": "execute_result"
    }
   ],
   "source": [
    "# Retrieve bathroom type data\n",
    "bath_type = airbnb_df['bathroom_type']\n",
    "bath_type.head()"
   ]
  },
  {
   "cell_type": "code",
   "execution_count": 6,
   "metadata": {},
   "outputs": [
    {
     "data": {
      "text/plain": [
       "0    bedroom\n",
       "1    bedroom\n",
       "2    bedroom\n",
       "3    bedroom\n",
       "4    bedroom\n",
       "Name: bedroom_type, dtype: object"
      ]
     },
     "execution_count": 6,
     "metadata": {},
     "output_type": "execute_result"
    }
   ],
   "source": [
    "# Retrieve bedroom type data\n",
    "bed_type = airbnb_df['bedroom_type']\n",
    "bed_type.head()"
   ]
  },
  {
   "cell_type": "code",
   "execution_count": 7,
   "metadata": {},
   "outputs": [
    {
     "data": {
      "text/plain": [
       "0    2\n",
       "1    1\n",
       "2    1\n",
       "3    1\n",
       "4    1\n",
       "Name: num_of_beds, dtype: int64"
      ]
     },
     "execution_count": 7,
     "metadata": {},
     "output_type": "execute_result"
    }
   ],
   "source": [
    "# Retrieve number of beds data\n",
    "num_of_beds = airbnb_df['num_of_beds']\n",
    "num_of_beds.head()"
   ]
  },
  {
   "cell_type": "code",
   "execution_count": 8,
   "metadata": {},
   "outputs": [
    {
     "data": {
      "text/plain": [
       "0    1\n",
       "1    1\n",
       "2    1\n",
       "3    1\n",
       "4    1\n",
       "Name: num_bedrooms, dtype: int64"
      ]
     },
     "execution_count": 8,
     "metadata": {},
     "output_type": "execute_result"
    }
   ],
   "source": [
    "# Retrieve number of bedrooms data\n",
    "num_bedrooms = airbnb_df['num_bedrooms']\n",
    "num_bedrooms.head()"
   ]
  },
  {
   "cell_type": "code",
   "execution_count": 9,
   "metadata": {},
   "outputs": [
    {
     "data": {
      "text/plain": [
       "0    1\n",
       "1    1\n",
       "2    1\n",
       "3    1\n",
       "4    1\n",
       "Name: num_bedrooms, dtype: int64"
      ]
     },
     "execution_count": 9,
     "metadata": {},
     "output_type": "execute_result"
    }
   ],
   "source": [
    "# Retrieve number of bathrooms data\n",
    "num_bathrooms = airbnb_df['num_of_bathrooms']\n",
    "num_bedrooms.head()"
   ]
  },
  {
   "cell_type": "code",
   "execution_count": 10,
   "metadata": {},
   "outputs": [
    {
     "data": {
      "text/plain": [
       "0    Manhattan\n",
       "1    Manhattan\n",
       "2    Manhattan\n",
       "3    Manhattan\n",
       "4     Brooklyn\n",
       "Name: neighborhood_group, dtype: object"
      ]
     },
     "execution_count": 10,
     "metadata": {},
     "output_type": "execute_result"
    }
   ],
   "source": [
    "# Retrieve neighborhood group data\n",
    "neighborhood_group = airbnb_df['neighborhood_group']\n",
    "neighborhood_group.head()"
   ]
  },
  {
   "cell_type": "code",
   "execution_count": 11,
   "metadata": {},
   "outputs": [
    {
     "data": {
      "text/plain": [
       "0    Theater District\n",
       "1             Chelsea\n",
       "2    Theater District\n",
       "3         East Harlem\n",
       "4            Canarsie\n",
       "Name: neighborhood, dtype: object"
      ]
     },
     "execution_count": 11,
     "metadata": {},
     "output_type": "execute_result"
    }
   ],
   "source": [
    "# Retrieve neghborhood data\n",
    "neighborhood = airbnb_df['neighborhood']\n",
    "neighborhood.head()"
   ]
  },
  {
   "cell_type": "code",
   "execution_count": 12,
   "metadata": {},
   "outputs": [
    {
     "data": {
      "text/plain": [
       "0    Private room\n",
       "1    Private room\n",
       "2    Private room\n",
       "3    Private room\n",
       "4    Private room\n",
       "Name: room_type, dtype: object"
      ]
     },
     "execution_count": 12,
     "metadata": {},
     "output_type": "execute_result"
    }
   ],
   "source": [
    "# Retrieve room type data\n",
    "room_type = airbnb_df['room_type']\n",
    "room_type.head()"
   ]
  },
  {
   "cell_type": "code",
   "execution_count": 13,
   "metadata": {},
   "outputs": [
    {
     "data": {
      "text/plain": [
       "0    185\n",
       "1    145\n",
       "2    153\n",
       "3     60\n",
       "4     71\n",
       "Name: price, dtype: int64"
      ]
     },
     "execution_count": 13,
     "metadata": {},
     "output_type": "execute_result"
    }
   ],
   "source": [
    "# Retrieve price data\n",
    "price = airbnb_df['price']\n",
    "price.head()"
   ]
  },
  {
   "cell_type": "code",
   "execution_count": 14,
   "metadata": {},
   "outputs": [
    {
     "data": {
      "text/plain": [
       "0    1\n",
       "1    1\n",
       "2    1\n",
       "3    1\n",
       "4    2\n",
       "Name: minimum_nights, dtype: int64"
      ]
     },
     "execution_count": 14,
     "metadata": {},
     "output_type": "execute_result"
    }
   ],
   "source": [
    "# Retrieve minimum nights data\n",
    "min_nights = airbnb_df['minimum_nights']\n",
    "min_nights.head()"
   ]
  },
  {
   "cell_type": "code",
   "execution_count": 15,
   "metadata": {},
   "outputs": [
    {
     "data": {
      "text/plain": [
       "0    761\n",
       "1    717\n",
       "2    341\n",
       "3    132\n",
       "4    325\n",
       "Name: number_of_reviews, dtype: int64"
      ]
     },
     "execution_count": 15,
     "metadata": {},
     "output_type": "execute_result"
    }
   ],
   "source": [
    "# Retrieve number of reviews data\n",
    "num_of_reviews = airbnb_df['number_of_reviews']\n",
    "num_of_reviews.head()"
   ]
  },
  {
   "cell_type": "code",
   "execution_count": 16,
   "metadata": {},
   "outputs": [
    {
     "data": {
      "text/plain": [
       "array(['Private room', 'Entire home/apt', 'Hotel room', 'Shared room'],\n",
       "      dtype=object)"
      ]
     },
     "execution_count": 16,
     "metadata": {},
     "output_type": "execute_result"
    }
   ],
   "source": [
    "room_type.unique()"
   ]
  },
  {
   "cell_type": "code",
   "execution_count": 17,
   "metadata": {},
   "outputs": [],
   "source": [
    "Shared_Room = []\n",
    "Hotel_Room = []\n",
    "Homes_or_Apartments = []\n",
    "Private_Rooms = []\n",
    "\n",
    "for place in room_type:\n",
    "    if place == 'Private room':\n",
    "        Private_Rooms.append(place)\n",
    "    elif place == 'Hotel room':\n",
    "        Hotel_Room.append(place)\n",
    "    elif place == 'Entire home/apt':\n",
    "        Homes_or_Apartments.append(place)\n",
    "    elif place == 'Shared room':\n",
    "        Shared_Room.append(place)\n"
   ]
  },
  {
   "cell_type": "code",
   "execution_count": 18,
   "metadata": {},
   "outputs": [
    {
     "data": {
      "text/plain": [
       "[8473, 112, 11284, 280]"
      ]
     },
     "execution_count": 18,
     "metadata": {},
     "output_type": "execute_result"
    }
   ],
   "source": [
    "private_rooms = len(Private_Rooms)\n",
    "hotel_room = len(Hotel_Room)\n",
    "homes_or_apartments = len(Homes_or_Apartments)\n",
    "shared_room = len(Shared_Room)\n",
    "\n",
    "list_of_values = [private_rooms, hotel_room, homes_or_apartments, shared_room]\n",
    "list_of_values"
   ]
  },
  {
   "cell_type": "code",
   "execution_count": 19,
   "metadata": {},
   "outputs": [],
   "source": [
    "sizes = list_of_values\n",
    "\n",
    "labels = ['private rooms', 'hotel rooms', 'homes or apartments', 'shared rooms']\n",
    "\n",
    "colors = ['orange', 'purple', 'blue', 'green']\n",
    "\n",
    "explode = (0, 0, 0, 0)"
   ]
  },
  {
   "cell_type": "code",
   "execution_count": 20,
   "metadata": {},
   "outputs": [
    {
     "data": {
      "image/png": "[encoded data removed]",
      "text/plain": [
       "<Figure size 640x480 with 1 Axes>"
      ]
     },
     "metadata": {},
     "output_type": "display_data"
    }
   ],
   "source": [
    "plt.pie(sizes, explode=explode, labels=labels, colors=colors,\n",
    "        autopct=\"%1.1f%%\", shadow=True, startangle=140)\n",
    "plt.show()"
   ]
  },
  {
   "cell_type": "code",
   "execution_count": 21,
   "metadata": {},
   "outputs": [
    {
     "data": {
      "text/html": [
       "<div>\n",
       "<style scoped>\n",
       "    .dataframe tbody tr th:only-of-type {\n",
       "        vertical-align: middle;\n",
       "    }\n",
       "\n",
       "    .dataframe tbody tr th {\n",
       "        vertical-align: top;\n",
       "    }\n",
       "\n",
       "    .dataframe thead th {\n",
       "        text-align: right;\n",
       "    }\n",
       "</style>\n",
       "<table border=\"1\" class=\"dataframe\">\n",
       "  <thead>\n",
       "    <tr style=\"text-align: right;\">\n",
       "      <th></th>\n",
       "      <th>id</th>\n",
       "      <th>name</th>\n",
       "      <th>num_bedrooms</th>\n",
       "      <th>bedroom_type</th>\n",
       "      <th>num_of_beds</th>\n",
       "      <th>num_of_bathrooms</th>\n",
       "      <th>bathroom_type</th>\n",
       "      <th>host_name</th>\n",
       "      <th>neighborhood_group</th>\n",
       "      <th>neighborhood</th>\n",
       "      <th>...</th>\n",
       "      <th>room_type</th>\n",
       "      <th>price</th>\n",
       "      <th>minimum_nights</th>\n",
       "      <th>number_of_reviews</th>\n",
       "      <th>last_review</th>\n",
       "      <th>reviews_per_month</th>\n",
       "      <th>calculated_host_listings_count</th>\n",
       "      <th>availability_365</th>\n",
       "      <th>number_of_reviews_ltm</th>\n",
       "      <th>license</th>\n",
       "    </tr>\n",
       "  </thead>\n",
       "  <tbody>\n",
       "    <tr>\n",
       "      <th>0</th>\n",
       "      <td>51864768.0</td>\n",
       "      <td>Hotel in New York</td>\n",
       "      <td>1</td>\n",
       "      <td>bedroom</td>\n",
       "      <td>2</td>\n",
       "      <td>1.0</td>\n",
       "      <td>private</td>\n",
       "      <td>Millennium Broadway</td>\n",
       "      <td>Manhattan</td>\n",
       "      <td>Theater District</td>\n",
       "      <td>...</td>\n",
       "      <td>Private room</td>\n",
       "      <td>185</td>\n",
       "      <td>1</td>\n",
       "      <td>761</td>\n",
       "      <td>1/5/2024</td>\n",
       "      <td>27.88</td>\n",
       "      <td>6</td>\n",
       "      <td>0</td>\n",
       "      <td>463</td>\n",
       "      <td>Exempt</td>\n",
       "    </tr>\n",
       "    <tr>\n",
       "      <th>1</th>\n",
       "      <td>35545434.0</td>\n",
       "      <td>Boutique hotel in New York</td>\n",
       "      <td>1</td>\n",
       "      <td>bedroom</td>\n",
       "      <td>1</td>\n",
       "      <td>1.0</td>\n",
       "      <td>private</td>\n",
       "      <td>Chelsea Inn Hotel</td>\n",
       "      <td>Manhattan</td>\n",
       "      <td>Chelsea</td>\n",
       "      <td>...</td>\n",
       "      <td>Private room</td>\n",
       "      <td>145</td>\n",
       "      <td>1</td>\n",
       "      <td>717</td>\n",
       "      <td>1/5/2024</td>\n",
       "      <td>14.61</td>\n",
       "      <td>5</td>\n",
       "      <td>0</td>\n",
       "      <td>90</td>\n",
       "      <td>Exempt</td>\n",
       "    </tr>\n",
       "    <tr>\n",
       "      <th>2</th>\n",
       "      <td>51864614.0</td>\n",
       "      <td>Hotel in New York</td>\n",
       "      <td>1</td>\n",
       "      <td>bedroom</td>\n",
       "      <td>1</td>\n",
       "      <td>1.0</td>\n",
       "      <td>private</td>\n",
       "      <td>Millennium Broadway</td>\n",
       "      <td>Manhattan</td>\n",
       "      <td>Theater District</td>\n",
       "      <td>...</td>\n",
       "      <td>Private room</td>\n",
       "      <td>153</td>\n",
       "      <td>1</td>\n",
       "      <td>341</td>\n",
       "      <td>1/5/2024</td>\n",
       "      <td>12.18</td>\n",
       "      <td>6</td>\n",
       "      <td>0</td>\n",
       "      <td>292</td>\n",
       "      <td>Exempt</td>\n",
       "    </tr>\n",
       "    <tr>\n",
       "      <th>3</th>\n",
       "      <td>54068618.0</td>\n",
       "      <td>Condo in New York</td>\n",
       "      <td>1</td>\n",
       "      <td>bedroom</td>\n",
       "      <td>1</td>\n",
       "      <td>1.0</td>\n",
       "      <td>shared</td>\n",
       "      <td>Trenton</td>\n",
       "      <td>Manhattan</td>\n",
       "      <td>East Harlem</td>\n",
       "      <td>...</td>\n",
       "      <td>Private room</td>\n",
       "      <td>60</td>\n",
       "      <td>1</td>\n",
       "      <td>132</td>\n",
       "      <td>1/5/2024</td>\n",
       "      <td>5.40</td>\n",
       "      <td>1</td>\n",
       "      <td>216</td>\n",
       "      <td>70</td>\n",
       "      <td>OSE-STRREG-0000691</td>\n",
       "    </tr>\n",
       "    <tr>\n",
       "      <th>4</th>\n",
       "      <td>29831517.0</td>\n",
       "      <td>Home in Brooklyn</td>\n",
       "      <td>1</td>\n",
       "      <td>bedroom</td>\n",
       "      <td>1</td>\n",
       "      <td>1.0</td>\n",
       "      <td>private</td>\n",
       "      <td>Rena</td>\n",
       "      <td>Brooklyn</td>\n",
       "      <td>Canarsie</td>\n",
       "      <td>...</td>\n",
       "      <td>Private room</td>\n",
       "      <td>71</td>\n",
       "      <td>2</td>\n",
       "      <td>325</td>\n",
       "      <td>1/5/2024</td>\n",
       "      <td>5.25</td>\n",
       "      <td>1</td>\n",
       "      <td>136</td>\n",
       "      <td>62</td>\n",
       "      <td>OSE-STRREG-0000173</td>\n",
       "    </tr>\n",
       "    <tr>\n",
       "      <th>...</th>\n",
       "      <td>...</td>\n",
       "      <td>...</td>\n",
       "      <td>...</td>\n",
       "      <td>...</td>\n",
       "      <td>...</td>\n",
       "      <td>...</td>\n",
       "      <td>...</td>\n",
       "      <td>...</td>\n",
       "      <td>...</td>\n",
       "      <td>...</td>\n",
       "      <td>...</td>\n",
       "      <td>...</td>\n",
       "      <td>...</td>\n",
       "      <td>...</td>\n",
       "      <td>...</td>\n",
       "      <td>...</td>\n",
       "      <td>...</td>\n",
       "      <td>...</td>\n",
       "      <td>...</td>\n",
       "      <td>...</td>\n",
       "      <td>...</td>\n",
       "    </tr>\n",
       "    <tr>\n",
       "      <th>20144</th>\n",
       "      <td>403712.0</td>\n",
       "      <td>Rental unit in New York</td>\n",
       "      <td>1</td>\n",
       "      <td>bedroom</td>\n",
       "      <td>1</td>\n",
       "      <td>1.0</td>\n",
       "      <td>bath</td>\n",
       "      <td>Giovanni</td>\n",
       "      <td>Manhattan</td>\n",
       "      <td>East Village</td>\n",
       "      <td>...</td>\n",
       "      <td>Entire home/apt</td>\n",
       "      <td>300</td>\n",
       "      <td>30</td>\n",
       "      <td>6</td>\n",
       "      <td>10/29/2012</td>\n",
       "      <td>0.04</td>\n",
       "      <td>1</td>\n",
       "      <td>0</td>\n",
       "      <td>0</td>\n",
       "      <td>NaN</td>\n",
       "    </tr>\n",
       "    <tr>\n",
       "      <th>20145</th>\n",
       "      <td>75658.0</td>\n",
       "      <td>Loft in Brooklyn</td>\n",
       "      <td>1</td>\n",
       "      <td>bedroom</td>\n",
       "      <td>1</td>\n",
       "      <td>1.0</td>\n",
       "      <td>shared</td>\n",
       "      <td>Noemi</td>\n",
       "      <td>Brooklyn</td>\n",
       "      <td>Bedford-Stuyvesant</td>\n",
       "      <td>...</td>\n",
       "      <td>Private room</td>\n",
       "      <td>221</td>\n",
       "      <td>30</td>\n",
       "      <td>20</td>\n",
       "      <td>9/30/2012</td>\n",
       "      <td>0.13</td>\n",
       "      <td>1</td>\n",
       "      <td>364</td>\n",
       "      <td>0</td>\n",
       "      <td>NaN</td>\n",
       "    </tr>\n",
       "    <tr>\n",
       "      <th>20146</th>\n",
       "      <td>513343.0</td>\n",
       "      <td>Rental unit in Brooklyn</td>\n",
       "      <td>1</td>\n",
       "      <td>bedroom</td>\n",
       "      <td>2</td>\n",
       "      <td>1.0</td>\n",
       "      <td>bath</td>\n",
       "      <td>Dennis</td>\n",
       "      <td>Brooklyn</td>\n",
       "      <td>Prospect Heights</td>\n",
       "      <td>...</td>\n",
       "      <td>Entire home/apt</td>\n",
       "      <td>125</td>\n",
       "      <td>30</td>\n",
       "      <td>1</td>\n",
       "      <td>7/11/2012</td>\n",
       "      <td>0.01</td>\n",
       "      <td>1</td>\n",
       "      <td>298</td>\n",
       "      <td>0</td>\n",
       "      <td>NaN</td>\n",
       "    </tr>\n",
       "    <tr>\n",
       "      <th>20147</th>\n",
       "      <td>456578.0</td>\n",
       "      <td>Rental unit in New York</td>\n",
       "      <td>1</td>\n",
       "      <td>bedroom</td>\n",
       "      <td>1</td>\n",
       "      <td>1.0</td>\n",
       "      <td>shared</td>\n",
       "      <td>Helen</td>\n",
       "      <td>Manhattan</td>\n",
       "      <td>Washington Heights</td>\n",
       "      <td>...</td>\n",
       "      <td>Private room</td>\n",
       "      <td>100</td>\n",
       "      <td>30</td>\n",
       "      <td>1</td>\n",
       "      <td>6/1/2012</td>\n",
       "      <td>0.01</td>\n",
       "      <td>1</td>\n",
       "      <td>87</td>\n",
       "      <td>0</td>\n",
       "      <td>NaN</td>\n",
       "    </tr>\n",
       "    <tr>\n",
       "      <th>20148</th>\n",
       "      <td>27883.0</td>\n",
       "      <td>Rental unit in New York</td>\n",
       "      <td>1</td>\n",
       "      <td>Studio</td>\n",
       "      <td>2</td>\n",
       "      <td>1.0</td>\n",
       "      <td>bath</td>\n",
       "      <td>Jen</td>\n",
       "      <td>Manhattan</td>\n",
       "      <td>East Village</td>\n",
       "      <td>...</td>\n",
       "      <td>Entire home/apt</td>\n",
       "      <td>100</td>\n",
       "      <td>30</td>\n",
       "      <td>25</td>\n",
       "      <td>12/10/2011</td>\n",
       "      <td>0.15</td>\n",
       "      <td>1</td>\n",
       "      <td>0</td>\n",
       "      <td>0</td>\n",
       "      <td>NaN</td>\n",
       "    </tr>\n",
       "  </tbody>\n",
       "</table>\n",
       "<p>20149 rows × 22 columns</p>\n",
       "</div>"
      ],
      "text/plain": [
       "               id                        name  num_bedrooms bedroom_type  \\\n",
       "0      51864768.0           Hotel in New York             1      bedroom   \n",
       "1      35545434.0  Boutique hotel in New York             1      bedroom   \n",
       "2      51864614.0           Hotel in New York             1      bedroom   \n",
       "3      54068618.0           Condo in New York             1      bedroom   \n",
       "4      29831517.0            Home in Brooklyn             1      bedroom   \n",
       "...           ...                         ...           ...          ...   \n",
       "20144    403712.0     Rental unit in New York             1      bedroom   \n",
       "20145     75658.0            Loft in Brooklyn             1      bedroom   \n",
       "20146    513343.0    Rental unit in Brooklyn              1      bedroom   \n",
       "20147    456578.0    Rental unit in New York              1      bedroom   \n",
       "20148     27883.0     Rental unit in New York             1      Studio    \n",
       "\n",
       "       num_of_beds  num_of_bathrooms bathroom_type            host_name  \\\n",
       "0                2               1.0       private  Millennium Broadway   \n",
       "1                1               1.0       private    Chelsea Inn Hotel   \n",
       "2                1               1.0       private  Millennium Broadway   \n",
       "3                1               1.0        shared              Trenton   \n",
       "4                1               1.0       private                 Rena   \n",
       "...            ...               ...           ...                  ...   \n",
       "20144            1               1.0          bath             Giovanni   \n",
       "20145            1               1.0        shared                Noemi   \n",
       "20146            2               1.0          bath               Dennis   \n",
       "20147            1               1.0        shared                Helen   \n",
       "20148            2               1.0          bath                  Jen   \n",
       "\n",
       "      neighborhood_group        neighborhood  ...        room_type  price  \\\n",
       "0              Manhattan    Theater District  ...     Private room    185   \n",
       "1              Manhattan             Chelsea  ...     Private room    145   \n",
       "2              Manhattan    Theater District  ...     Private room    153   \n",
       "3              Manhattan         East Harlem  ...     Private room     60   \n",
       "4               Brooklyn            Canarsie  ...     Private room     71   \n",
       "...                  ...                 ...  ...              ...    ...   \n",
       "20144          Manhattan        East Village  ...  Entire home/apt    300   \n",
       "20145           Brooklyn  Bedford-Stuyvesant  ...     Private room    221   \n",
       "20146           Brooklyn    Prospect Heights  ...  Entire home/apt    125   \n",
       "20147          Manhattan  Washington Heights  ...     Private room    100   \n",
       "20148          Manhattan        East Village  ...  Entire home/apt    100   \n",
       "\n",
       "      minimum_nights  number_of_reviews  last_review  reviews_per_month  \\\n",
       "0                  1                761     1/5/2024              27.88   \n",
       "1                  1                717     1/5/2024              14.61   \n",
       "2                  1                341     1/5/2024              12.18   \n",
       "3                  1                132     1/5/2024               5.40   \n",
       "4                  2                325     1/5/2024               5.25   \n",
       "...              ...                ...          ...                ...   \n",
       "20144             30                  6   10/29/2012               0.04   \n",
       "20145             30                 20    9/30/2012               0.13   \n",
       "20146             30                  1    7/11/2012               0.01   \n",
       "20147             30                  1     6/1/2012               0.01   \n",
       "20148             30                 25   12/10/2011               0.15   \n",
       "\n",
       "      calculated_host_listings_count  availability_365  number_of_reviews_ltm  \\\n",
       "0                                  6                 0                    463   \n",
       "1                                  5                 0                     90   \n",
       "2                                  6                 0                    292   \n",
       "3                                  1               216                     70   \n",
       "4                                  1               136                     62   \n",
       "...                              ...               ...                    ...   \n",
       "20144                              1                 0                      0   \n",
       "20145                              1               364                      0   \n",
       "20146                              1               298                      0   \n",
       "20147                              1                87                      0   \n",
       "20148                              1                 0                      0   \n",
       "\n",
       "                  license  \n",
       "0                  Exempt  \n",
       "1                  Exempt  \n",
       "2                  Exempt  \n",
       "3      OSE-STRREG-0000691  \n",
       "4      OSE-STRREG-0000173  \n",
       "...                   ...  \n",
       "20144                 NaN  \n",
       "20145                 NaN  \n",
       "20146                 NaN  \n",
       "20147                 NaN  \n",
       "20148                 NaN  \n",
       "\n",
       "[20149 rows x 22 columns]"
      ]
     },
     "execution_count": 21,
     "metadata": {},
     "output_type": "execute_result"
    }
   ],
   "source": [
    "airbnb_df\n"
   ]
  },
  {
   "cell_type": "code",
   "execution_count": 22,
   "metadata": {},
   "outputs": [
    {
     "data": {
      "text/plain": [
       "array(['Private room', 'Entire home/apt', 'Hotel room', 'Shared room'],\n",
       "      dtype=object)"
      ]
     },
     "execution_count": 22,
     "metadata": {},
     "output_type": "execute_result"
    }
   ],
   "source": [
    "room_types = airbnb_df['room_type'].unique()\n",
    "room_types"
   ]
  },
  {
   "cell_type": "code",
   "execution_count": 23,
   "metadata": {},
   "outputs": [
    {
     "data": {
      "image/png": "[encoded data removed]",
      "text/plain": [
       "<Figure size 640x480 with 1 Axes>"
      ]
     },
     "metadata": {},
     "output_type": "display_data"
    }
   ],
   "source": [
    "room_types = airbnb_df[\"room_type\"].value_counts()\n",
    "room_types.plot(kind=\"pie\",autopct=\"%1.1f%%\", colors=['powderblue', 'coral', 'palegreen', 'moccasin'])\n",
    "plt.title(\"Room Types\")\n",
    "plt.show()\n",
    "#plt.savefig(fname=\"Airbnb_Room_Types_Pie_Chart.png\", transparent=True) "
   ]
  },
  {
   "cell_type": "code",
   "execution_count": 27,
   "metadata": {},
   "outputs": [
    {
     "name": "stdout",
     "output_type": "stream",
     "text": [
      "                     count        mean          std   min    25%    50%  \\\n",
      "neighborhood_group                                                        \n",
      "Bronx                918.0  119.549020   335.778666  24.0   59.0   90.0   \n",
      "Brooklyn            7488.0  187.336004  1642.893357  10.0   79.0  125.0   \n",
      "Manhattan           7810.0  228.434315   379.072653  10.0  100.0  150.0   \n",
      "Queens              3648.0  126.929550   201.039048  17.0   62.0   98.0   \n",
      "Staten Island        285.0  119.224561    92.003208  33.0   70.0   99.0   \n",
      "\n",
      "                      75%       max  \n",
      "neighborhood_group                   \n",
      "Bronx               129.0    9994.0  \n",
      "Brooklyn            195.0  100000.0  \n",
      "Manhattan           245.0   10000.0  \n",
      "Queens              150.0   10000.0  \n",
      "Staten Island       139.0    1000.0  \n"
     ]
    }
   ],
   "source": [
    "summary_stats = airbnb_df.groupby('neighborhood_group')['price'].describe()\n",
    "print(summary_stats)"
   ]
  },
  {
   "cell_type": "code",
   "execution_count": 48,
   "metadata": {},
   "outputs": [
    {
     "data": {
      "image/png": "[encoded data removed]",
      "text/plain": [
       "<Figure size 1000x600 with 1 Axes>"
      ]
     },
     "metadata": {},
     "output_type": "display_data"
    }
   ],
   "source": [
    "plt.figure(figsize=(10, 6))\n",
    "summary_stats['mean'].plot(kind='bar', color='red')\n",
    "plt.title('Mean Price by Neighborhood Group')\n",
    "plt.xlabel('Neighborhood Group')\n",
    "plt.ylabel('Mean Price')\n",
    "plt.xticks(rotation=45)\n",
    "plt.grid(axis='y', linestyle='--', alpha=0.7)\n",
    "plt.show()"
   ]
  },
  {
   "cell_type": "code",
   "execution_count": 50,
   "metadata": {},
   "outputs": [
    {
     "data": {
      "text/plain": [
       "array([ 1,  2,  3,  4,  5,  8,  6,  7,  9, 14, 15])"
      ]
     },
     "execution_count": 50,
     "metadata": {},
     "output_type": "execute_result"
    }
   ],
   "source": [
    "room_types = airbnb_df['num_bedrooms'].unique()\n",
    "room_types"
   ]
  },
  {
   "cell_type": "code",
   "execution_count": 51,
   "metadata": {},
   "outputs": [
    {
     "data": {
      "image/png": "[encoded data removed]",
      "text/plain": [
       "<Figure size 640x480 with 1 Axes>"
      ]
     },
     "metadata": {},
     "output_type": "display_data"
    }
   ],
   "source": [
    "room_types = airbnb_df[\"num_bedrooms\"].value_counts()\n",
    "room_types.plot(kind=\"pie\",autopct=\"%1.1f%%\", colors=['powderblue', 'coral', 'palegreen', 'moccasin'])\n",
    "plt.title(\"Num bedrooms\")\n",
    "plt.show()\n",
    "#plt.savefig(fname=\"Airbnb_Room_Types_Pie_Chart.png\", transparent=True) "
   ]
  },
  {
   "cell_type": "code",
   "execution_count": 49,
   "metadata": {},
   "outputs": [
    {
     "name": "stdout",
     "output_type": "stream",
     "text": [
      "                     count      mean       std  min  25%  50%  75%   max\n",
      "neighborhood_group                                                      \n",
      "Bronx                918.0  1.335512  0.705688  1.0  1.0  1.0  1.0   6.0\n",
      "Brooklyn            7488.0  1.465545  0.855619  1.0  1.0  1.0  2.0  14.0\n",
      "Manhattan           7810.0  1.341869  0.738354  1.0  1.0  1.0  1.0  15.0\n",
      "Queens              3648.0  1.391996  0.762690  1.0  1.0  1.0  2.0   7.0\n",
      "Staten Island        285.0  1.501754  0.898452  1.0  1.0  1.0  2.0   6.0\n"
     ]
    }
   ],
   "source": [
    "summary_stats = airbnb_df.groupby('neighborhood_group')['num_bedrooms'].describe()\n",
    "print(summary_stats)"
   ]
  },
  {
   "cell_type": "code",
   "execution_count": 40,
   "metadata": {},
   "outputs": [],
   "source": [
    "import pandas as pd\n",
    "\n",
    "# Assuming airbnb_data is your DataFrame\n",
    "\n",
    "# Drop rows with price above 8000 for visualizations\n",
    "filtered_df = airbnb_df[airbnb_df['price'] <= 3000]\n",
    "\n",
    "\n"
   ]
  },
  {
   "cell_type": "code",
   "execution_count": 41,
   "metadata": {},
   "outputs": [
    {
     "data": {
      "image/png": "[encoded data removed]",
      "text/plain": [
       "<Figure size 1000x600 with 1 Axes>"
      ]
     },
     "metadata": {},
     "output_type": "display_data"
    }
   ],
   "source": [
    "# Visualization - Box plot\n",
    "import seaborn as sns\n",
    "\n",
    "plt.figure(figsize=(10, 6))\n",
    "sns.boxplot(x='neighborhood_group', y='price', data=filtered_df)\n",
    "plt.title('Distribution of Airbnb Prices by Borough')\n",
    "plt.xlabel('neighborhood_group')\n",
    "plt.ylabel('Price')\n",
    "plt.show()\n"
   ]
  },
  {
   "cell_type": "code",
   "execution_count": 44,
   "metadata": {},
   "outputs": [],
   "source": [
    "# Extract prices for each borough\n",
    "borough_prices = []\n",
    "for neighborhood_group, group_df in filtered_df.groupby('neighborhood_group'):\n",
    "    borough_prices.append(group_df['price'])"
   ]
  },
  {
   "cell_type": "code",
   "execution_count": 46,
   "metadata": {},
   "outputs": [
    {
     "name": "stdout",
     "output_type": "stream",
     "text": [
      "F-statistic: 243.37069513943297\n",
      "p-value: 1.7094423925233237e-204\n",
      "Reject null hypothesis: There are significant differences in prices among boroughs.\n"
     ]
    }
   ],
   "source": [
    "# Perform ANOVA test\n",
    "f_statistic, p_value = f_oneway(*borough_prices)\n",
    "\n",
    "# Print results\n",
    "print(\"F-statistic:\", f_statistic)\n",
    "print(\"p-value:\", p_value)\n",
    "\n",
    "# Interpretation of results\n",
    "if p_value < 0.05:\n",
    "    print(\"Reject null hypothesis: There are significant differences in prices among boroughs.\")\n",
    "else:\n",
    "    print(\"Fail to reject null hypothesis: There are no significant differences in prices among boroughs.\")"
   ]
  },
  {
   "cell_type": "code",
   "execution_count": 53,
   "metadata": {},
   "outputs": [
    {
     "name": "stderr",
     "output_type": "stream",
     "text": [
      "/var/folders/jd/w_2svcjx0ybdbcm7pkz4hvgh0000gn/T/ipykernel_24000/2008836847.py:3: FutureWarning: \n",
      "\n",
      "The `ci` parameter is deprecated. Use `errorbar='sd'` for the same effect.\n",
      "\n",
      "  sns.barplot(x='neighborhood_group', y='price', data=filtered_df, ci='sd')  # ci='sd' for error bars based on standard deviation\n"
     ]
    },
    {
     "data": {
      "image/png": "[encoded data removed]",
      "text/plain": [
       "<Figure size 1000x600 with 1 Axes>"
      ]
     },
     "metadata": {},
     "output_type": "display_data"
    }
   ],
   "source": [
    "# Bar plot\n",
    "plt.figure(figsize=(10, 6))\n",
    "sns.barplot(x='neighborhood_group', y='price', data=filtered_df, ci='sd')  # ci='sd' for error bars based on standard deviation\n",
    "plt.title('Mean Airbnb Prices by Borough')\n",
    "plt.xlabel('neighborhood_group')\n",
    "plt.ylabel('Mean Price')\n",
    "plt.xticks(rotation=45)\n",
    "plt.show()"
   ]
  }
 ],
 "metadata": {
  "kernelspec": {
   "display_name": "dev",
   "language": "python",
   "name": "python3"
  },
  "language_info": {
   "codemirror_mode": {
    "name": "ipython",
    "version": 3
   },
   "file_extension": ".py",
   "mimetype": "text/x-python",
   "name": "python",
   "nbconvert_exporter": "python",
   "pygments_lexer": "ipython3",
   "version": "3.10.13"
  }
 },
 "nbformat": 4,
 "nbformat_minor": 2
}
