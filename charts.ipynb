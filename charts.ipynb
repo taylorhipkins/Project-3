{
 "cells": [
  {
   "cell_type": "code",
   "execution_count": 614,
   "metadata": {},
   "outputs": [],
   "source": [
    "# Import Dependencies\n",
    "import pandas as pd\n",
    "from pathlib import Path\n",
    "import matplotlib.pyplot as plt\n",
    "from matplotlib.animation import FuncAnimation\n",
    "import numpy as np\n",
    "from scipy.stats import f_oneway\n",
    "import bar_chart_race as bcr"
   ]
  },
  {
   "cell_type": "code",
   "execution_count": 615,
   "metadata": {},
   "outputs": [
    {
     "data": {
      "text/html": [
       "<div>\n",
       "<style scoped>\n",
       "    .dataframe tbody tr th:only-of-type {\n",
       "        vertical-align: middle;\n",
       "    }\n",
       "\n",
       "    .dataframe tbody tr th {\n",
       "        vertical-align: top;\n",
       "    }\n",
       "\n",
       "    .dataframe thead th {\n",
       "        text-align: right;\n",
       "    }\n",
       "</style>\n",
       "<table border=\"1\" class=\"dataframe\">\n",
       "  <thead>\n",
       "    <tr style=\"text-align: right;\">\n",
       "      <th></th>\n",
       "      <th>id</th>\n",
       "      <th>name</th>\n",
       "      <th>num_bedrooms</th>\n",
       "      <th>bedroom_type</th>\n",
       "      <th>num_of_beds</th>\n",
       "      <th>num_of_bathrooms</th>\n",
       "      <th>bathroom_type</th>\n",
       "      <th>host_name</th>\n",
       "      <th>neighbourhood_group</th>\n",
       "      <th>neighbourhood</th>\n",
       "      <th>...</th>\n",
       "      <th>room_type</th>\n",
       "      <th>price</th>\n",
       "      <th>minimum_nights</th>\n",
       "      <th>number_of_reviews</th>\n",
       "      <th>last_review</th>\n",
       "      <th>reviews_per_month</th>\n",
       "      <th>calculated_host_listings_count</th>\n",
       "      <th>availability_365</th>\n",
       "      <th>number_of_reviews_ltm</th>\n",
       "      <th>license</th>\n",
       "    </tr>\n",
       "  </thead>\n",
       "  <tbody>\n",
       "    <tr>\n",
       "      <th>0</th>\n",
       "      <td>8.187800e+17</td>\n",
       "      <td>Home in Brooklyn</td>\n",
       "      <td>9</td>\n",
       "      <td>bedrooms</td>\n",
       "      <td>11</td>\n",
       "      <td>4.0</td>\n",
       "      <td>baths</td>\n",
       "      <td>Ming</td>\n",
       "      <td>Brooklyn</td>\n",
       "      <td>Crown Heights</td>\n",
       "      <td>...</td>\n",
       "      <td>Entire home/apt</td>\n",
       "      <td>832</td>\n",
       "      <td>30</td>\n",
       "      <td>7</td>\n",
       "      <td>10/8/2023</td>\n",
       "      <td>0.77</td>\n",
       "      <td>3</td>\n",
       "      <td>14</td>\n",
       "      <td>7</td>\n",
       "      <td>NaN</td>\n",
       "    </tr>\n",
       "    <tr>\n",
       "      <th>1</th>\n",
       "      <td>7.449090e+17</td>\n",
       "      <td>Rental unit in New York</td>\n",
       "      <td>9</td>\n",
       "      <td>bedrooms</td>\n",
       "      <td>12</td>\n",
       "      <td>3.0</td>\n",
       "      <td>baths</td>\n",
       "      <td>Jude</td>\n",
       "      <td>Manhattan</td>\n",
       "      <td>Harlem</td>\n",
       "      <td>...</td>\n",
       "      <td>Entire home/apt</td>\n",
       "      <td>959</td>\n",
       "      <td>1</td>\n",
       "      <td>4</td>\n",
       "      <td>10/5/2023</td>\n",
       "      <td>0.55</td>\n",
       "      <td>12</td>\n",
       "      <td>334</td>\n",
       "      <td>4</td>\n",
       "      <td>Exempt</td>\n",
       "    </tr>\n",
       "    <tr>\n",
       "      <th>2</th>\n",
       "      <td>3.486668e+07</td>\n",
       "      <td>Home in Brooklyn</td>\n",
       "      <td>9</td>\n",
       "      <td>bedrooms</td>\n",
       "      <td>11</td>\n",
       "      <td>4.0</td>\n",
       "      <td>baths</td>\n",
       "      <td>Philip</td>\n",
       "      <td>Brooklyn</td>\n",
       "      <td>Crown Heights</td>\n",
       "      <td>...</td>\n",
       "      <td>Entire home/apt</td>\n",
       "      <td>754</td>\n",
       "      <td>30</td>\n",
       "      <td>31</td>\n",
       "      <td>9/3/2023</td>\n",
       "      <td>0.58</td>\n",
       "      <td>4</td>\n",
       "      <td>240</td>\n",
       "      <td>5</td>\n",
       "      <td>NaN</td>\n",
       "    </tr>\n",
       "    <tr>\n",
       "      <th>3</th>\n",
       "      <td>4.578519e+07</td>\n",
       "      <td>Townhouse in New York</td>\n",
       "      <td>9</td>\n",
       "      <td>bedrooms</td>\n",
       "      <td>9</td>\n",
       "      <td>6.5</td>\n",
       "      <td>baths</td>\n",
       "      <td>Outsite</td>\n",
       "      <td>Manhattan</td>\n",
       "      <td>Murray Hill</td>\n",
       "      <td>...</td>\n",
       "      <td>Entire home/apt</td>\n",
       "      <td>1500</td>\n",
       "      <td>30</td>\n",
       "      <td>2</td>\n",
       "      <td>8/14/2021</td>\n",
       "      <td>0.06</td>\n",
       "      <td>13</td>\n",
       "      <td>179</td>\n",
       "      <td>0</td>\n",
       "      <td>NaN</td>\n",
       "    </tr>\n",
       "    <tr>\n",
       "      <th>4</th>\n",
       "      <td>2.851497e+07</td>\n",
       "      <td>Rental unit in Brooklyn</td>\n",
       "      <td>9</td>\n",
       "      <td>bedrooms</td>\n",
       "      <td>1</td>\n",
       "      <td>1.0</td>\n",
       "      <td>shared</td>\n",
       "      <td>Leo</td>\n",
       "      <td>Brooklyn</td>\n",
       "      <td>Greenpoint</td>\n",
       "      <td>...</td>\n",
       "      <td>Private room</td>\n",
       "      <td>95</td>\n",
       "      <td>30</td>\n",
       "      <td>5</td>\n",
       "      <td>7/15/2021</td>\n",
       "      <td>0.08</td>\n",
       "      <td>2</td>\n",
       "      <td>0</td>\n",
       "      <td>0</td>\n",
       "      <td>NaN</td>\n",
       "    </tr>\n",
       "    <tr>\n",
       "      <th>...</th>\n",
       "      <td>...</td>\n",
       "      <td>...</td>\n",
       "      <td>...</td>\n",
       "      <td>...</td>\n",
       "      <td>...</td>\n",
       "      <td>...</td>\n",
       "      <td>...</td>\n",
       "      <td>...</td>\n",
       "      <td>...</td>\n",
       "      <td>...</td>\n",
       "      <td>...</td>\n",
       "      <td>...</td>\n",
       "      <td>...</td>\n",
       "      <td>...</td>\n",
       "      <td>...</td>\n",
       "      <td>...</td>\n",
       "      <td>...</td>\n",
       "      <td>...</td>\n",
       "      <td>...</td>\n",
       "      <td>...</td>\n",
       "      <td>...</td>\n",
       "    </tr>\n",
       "    <tr>\n",
       "      <th>20142</th>\n",
       "      <td>4.037120e+05</td>\n",
       "      <td>Rental unit in New York</td>\n",
       "      <td>1</td>\n",
       "      <td>bedroom</td>\n",
       "      <td>1</td>\n",
       "      <td>1.0</td>\n",
       "      <td>bath</td>\n",
       "      <td>Giovanni</td>\n",
       "      <td>Manhattan</td>\n",
       "      <td>East Village</td>\n",
       "      <td>...</td>\n",
       "      <td>Entire home/apt</td>\n",
       "      <td>300</td>\n",
       "      <td>30</td>\n",
       "      <td>6</td>\n",
       "      <td>10/29/2012</td>\n",
       "      <td>0.04</td>\n",
       "      <td>1</td>\n",
       "      <td>0</td>\n",
       "      <td>0</td>\n",
       "      <td>NaN</td>\n",
       "    </tr>\n",
       "    <tr>\n",
       "      <th>20143</th>\n",
       "      <td>7.565800e+04</td>\n",
       "      <td>Loft in Brooklyn</td>\n",
       "      <td>1</td>\n",
       "      <td>bedroom</td>\n",
       "      <td>1</td>\n",
       "      <td>1.0</td>\n",
       "      <td>shared</td>\n",
       "      <td>Noemi</td>\n",
       "      <td>Brooklyn</td>\n",
       "      <td>Bedford-Stuyvesant</td>\n",
       "      <td>...</td>\n",
       "      <td>Private room</td>\n",
       "      <td>221</td>\n",
       "      <td>30</td>\n",
       "      <td>20</td>\n",
       "      <td>9/30/2012</td>\n",
       "      <td>0.13</td>\n",
       "      <td>1</td>\n",
       "      <td>364</td>\n",
       "      <td>0</td>\n",
       "      <td>NaN</td>\n",
       "    </tr>\n",
       "    <tr>\n",
       "      <th>20144</th>\n",
       "      <td>5.133430e+05</td>\n",
       "      <td>Rental unit in Brooklyn</td>\n",
       "      <td>1</td>\n",
       "      <td>bedroom</td>\n",
       "      <td>2</td>\n",
       "      <td>1.0</td>\n",
       "      <td>bath</td>\n",
       "      <td>Dennis</td>\n",
       "      <td>Brooklyn</td>\n",
       "      <td>Prospect Heights</td>\n",
       "      <td>...</td>\n",
       "      <td>Entire home/apt</td>\n",
       "      <td>125</td>\n",
       "      <td>30</td>\n",
       "      <td>1</td>\n",
       "      <td>7/11/2012</td>\n",
       "      <td>0.01</td>\n",
       "      <td>1</td>\n",
       "      <td>298</td>\n",
       "      <td>0</td>\n",
       "      <td>NaN</td>\n",
       "    </tr>\n",
       "    <tr>\n",
       "      <th>20145</th>\n",
       "      <td>4.565780e+05</td>\n",
       "      <td>Rental unit in New York</td>\n",
       "      <td>1</td>\n",
       "      <td>bedroom</td>\n",
       "      <td>1</td>\n",
       "      <td>1.0</td>\n",
       "      <td>shared</td>\n",
       "      <td>Helen</td>\n",
       "      <td>Manhattan</td>\n",
       "      <td>Washington Heights</td>\n",
       "      <td>...</td>\n",
       "      <td>Private room</td>\n",
       "      <td>100</td>\n",
       "      <td>30</td>\n",
       "      <td>1</td>\n",
       "      <td>6/1/2012</td>\n",
       "      <td>0.01</td>\n",
       "      <td>1</td>\n",
       "      <td>87</td>\n",
       "      <td>0</td>\n",
       "      <td>NaN</td>\n",
       "    </tr>\n",
       "    <tr>\n",
       "      <th>20146</th>\n",
       "      <td>2.788300e+04</td>\n",
       "      <td>Rental unit in New York</td>\n",
       "      <td>1</td>\n",
       "      <td>Studio</td>\n",
       "      <td>2</td>\n",
       "      <td>1.0</td>\n",
       "      <td>bath</td>\n",
       "      <td>Jen</td>\n",
       "      <td>Manhattan</td>\n",
       "      <td>East Village</td>\n",
       "      <td>...</td>\n",
       "      <td>Entire home/apt</td>\n",
       "      <td>100</td>\n",
       "      <td>30</td>\n",
       "      <td>25</td>\n",
       "      <td>12/10/2011</td>\n",
       "      <td>0.15</td>\n",
       "      <td>1</td>\n",
       "      <td>0</td>\n",
       "      <td>0</td>\n",
       "      <td>NaN</td>\n",
       "    </tr>\n",
       "  </tbody>\n",
       "</table>\n",
       "<p>20147 rows × 22 columns</p>\n",
       "</div>"
      ],
      "text/plain": [
       "                 id                      name  num_bedrooms bedroom_type  \\\n",
       "0      8.187800e+17          Home in Brooklyn             9     bedrooms   \n",
       "1      7.449090e+17   Rental unit in New York             9     bedrooms   \n",
       "2      3.486668e+07          Home in Brooklyn             9     bedrooms   \n",
       "3      4.578519e+07    Townhouse in New York              9     bedrooms   \n",
       "4      2.851497e+07   Rental unit in Brooklyn             9     bedrooms   \n",
       "...             ...                       ...           ...          ...   \n",
       "20142  4.037120e+05   Rental unit in New York             1      bedroom   \n",
       "20143  7.565800e+04          Loft in Brooklyn             1      bedroom   \n",
       "20144  5.133430e+05  Rental unit in Brooklyn              1      bedroom   \n",
       "20145  4.565780e+05  Rental unit in New York              1      bedroom   \n",
       "20146  2.788300e+04   Rental unit in New York             1      Studio    \n",
       "\n",
       "       num_of_beds  num_of_bathrooms bathroom_type host_name  \\\n",
       "0               11               4.0         baths      Ming   \n",
       "1               12               3.0         baths      Jude   \n",
       "2               11               4.0         baths    Philip   \n",
       "3                9               6.5         baths   Outsite   \n",
       "4                1               1.0        shared       Leo   \n",
       "...            ...               ...           ...       ...   \n",
       "20142            1               1.0          bath  Giovanni   \n",
       "20143            1               1.0        shared     Noemi   \n",
       "20144            2               1.0          bath    Dennis   \n",
       "20145            1               1.0        shared     Helen   \n",
       "20146            2               1.0          bath       Jen   \n",
       "\n",
       "      neighbourhood_group       neighbourhood  ...        room_type  price  \\\n",
       "0                Brooklyn       Crown Heights  ...  Entire home/apt    832   \n",
       "1               Manhattan              Harlem  ...  Entire home/apt    959   \n",
       "2                Brooklyn       Crown Heights  ...  Entire home/apt    754   \n",
       "3               Manhattan         Murray Hill  ...  Entire home/apt   1500   \n",
       "4                Brooklyn          Greenpoint  ...     Private room     95   \n",
       "...                   ...                 ...  ...              ...    ...   \n",
       "20142           Manhattan        East Village  ...  Entire home/apt    300   \n",
       "20143            Brooklyn  Bedford-Stuyvesant  ...     Private room    221   \n",
       "20144            Brooklyn    Prospect Heights  ...  Entire home/apt    125   \n",
       "20145           Manhattan  Washington Heights  ...     Private room    100   \n",
       "20146           Manhattan        East Village  ...  Entire home/apt    100   \n",
       "\n",
       "      minimum_nights  number_of_reviews  last_review  reviews_per_month  \\\n",
       "0                 30                  7    10/8/2023               0.77   \n",
       "1                  1                  4    10/5/2023               0.55   \n",
       "2                 30                 31     9/3/2023               0.58   \n",
       "3                 30                  2    8/14/2021               0.06   \n",
       "4                 30                  5    7/15/2021               0.08   \n",
       "...              ...                ...          ...                ...   \n",
       "20142             30                  6   10/29/2012               0.04   \n",
       "20143             30                 20    9/30/2012               0.13   \n",
       "20144             30                  1    7/11/2012               0.01   \n",
       "20145             30                  1     6/1/2012               0.01   \n",
       "20146             30                 25   12/10/2011               0.15   \n",
       "\n",
       "      calculated_host_listings_count  availability_365  number_of_reviews_ltm  \\\n",
       "0                                  3                14                      7   \n",
       "1                                 12               334                      4   \n",
       "2                                  4               240                      5   \n",
       "3                                 13               179                      0   \n",
       "4                                  2                 0                      0   \n",
       "...                              ...               ...                    ...   \n",
       "20142                              1                 0                      0   \n",
       "20143                              1               364                      0   \n",
       "20144                              1               298                      0   \n",
       "20145                              1                87                      0   \n",
       "20146                              1                 0                      0   \n",
       "\n",
       "       license  \n",
       "0          NaN  \n",
       "1       Exempt  \n",
       "2          NaN  \n",
       "3          NaN  \n",
       "4          NaN  \n",
       "...        ...  \n",
       "20142      NaN  \n",
       "20143      NaN  \n",
       "20144      NaN  \n",
       "20145      NaN  \n",
       "20146      NaN  \n",
       "\n",
       "[20147 rows x 22 columns]"
      ]
     },
     "execution_count": 615,
     "metadata": {},
     "output_type": "execute_result"
    }
   ],
   "source": [
    "# Retrieve file path\n",
    "file_path = Path('listings.csv')\n",
    "# Read csv\n",
    "airbnb_df = pd.read_csv(file_path)\n",
    "# Display dataframe\n",
    "airbnb_df"
   ]
  },
  {
   "cell_type": "code",
   "execution_count": 616,
   "metadata": {},
   "outputs": [
    {
     "data": {
      "text/html": [
       "<div>\n",
       "<style scoped>\n",
       "    .dataframe tbody tr th:only-of-type {\n",
       "        vertical-align: middle;\n",
       "    }\n",
       "\n",
       "    .dataframe tbody tr th {\n",
       "        vertical-align: top;\n",
       "    }\n",
       "\n",
       "    .dataframe thead th {\n",
       "        text-align: right;\n",
       "    }\n",
       "</style>\n",
       "<table border=\"1\" class=\"dataframe\">\n",
       "  <thead>\n",
       "    <tr style=\"text-align: right;\">\n",
       "      <th></th>\n",
       "      <th>id</th>\n",
       "      <th>name</th>\n",
       "      <th>num_bedrooms</th>\n",
       "      <th>bedroom_type</th>\n",
       "      <th>num_of_beds</th>\n",
       "      <th>num_of_bathrooms</th>\n",
       "      <th>bathroom_type</th>\n",
       "      <th>host_name</th>\n",
       "      <th>neighborhood_group</th>\n",
       "      <th>neighborhood</th>\n",
       "      <th>...</th>\n",
       "      <th>room_type</th>\n",
       "      <th>price</th>\n",
       "      <th>minimum_nights</th>\n",
       "      <th>number_of_reviews</th>\n",
       "      <th>last_review</th>\n",
       "      <th>reviews_per_month</th>\n",
       "      <th>calculated_host_listings_count</th>\n",
       "      <th>availability_365</th>\n",
       "      <th>number_of_reviews_ltm</th>\n",
       "      <th>license</th>\n",
       "    </tr>\n",
       "  </thead>\n",
       "  <tbody>\n",
       "    <tr>\n",
       "      <th>0</th>\n",
       "      <td>8.187800e+17</td>\n",
       "      <td>Home in Brooklyn</td>\n",
       "      <td>9</td>\n",
       "      <td>bedrooms</td>\n",
       "      <td>11</td>\n",
       "      <td>4.0</td>\n",
       "      <td>baths</td>\n",
       "      <td>Ming</td>\n",
       "      <td>Brooklyn</td>\n",
       "      <td>Crown Heights</td>\n",
       "      <td>...</td>\n",
       "      <td>Entire home/apt</td>\n",
       "      <td>832</td>\n",
       "      <td>30</td>\n",
       "      <td>7</td>\n",
       "      <td>10/8/2023</td>\n",
       "      <td>0.77</td>\n",
       "      <td>3</td>\n",
       "      <td>14</td>\n",
       "      <td>7</td>\n",
       "      <td>NaN</td>\n",
       "    </tr>\n",
       "    <tr>\n",
       "      <th>1</th>\n",
       "      <td>7.449090e+17</td>\n",
       "      <td>Rental unit in New York</td>\n",
       "      <td>9</td>\n",
       "      <td>bedrooms</td>\n",
       "      <td>12</td>\n",
       "      <td>3.0</td>\n",
       "      <td>baths</td>\n",
       "      <td>Jude</td>\n",
       "      <td>Manhattan</td>\n",
       "      <td>Harlem</td>\n",
       "      <td>...</td>\n",
       "      <td>Entire home/apt</td>\n",
       "      <td>959</td>\n",
       "      <td>1</td>\n",
       "      <td>4</td>\n",
       "      <td>10/5/2023</td>\n",
       "      <td>0.55</td>\n",
       "      <td>12</td>\n",
       "      <td>334</td>\n",
       "      <td>4</td>\n",
       "      <td>Exempt</td>\n",
       "    </tr>\n",
       "    <tr>\n",
       "      <th>2</th>\n",
       "      <td>3.486668e+07</td>\n",
       "      <td>Home in Brooklyn</td>\n",
       "      <td>9</td>\n",
       "      <td>bedrooms</td>\n",
       "      <td>11</td>\n",
       "      <td>4.0</td>\n",
       "      <td>baths</td>\n",
       "      <td>Philip</td>\n",
       "      <td>Brooklyn</td>\n",
       "      <td>Crown Heights</td>\n",
       "      <td>...</td>\n",
       "      <td>Entire home/apt</td>\n",
       "      <td>754</td>\n",
       "      <td>30</td>\n",
       "      <td>31</td>\n",
       "      <td>9/3/2023</td>\n",
       "      <td>0.58</td>\n",
       "      <td>4</td>\n",
       "      <td>240</td>\n",
       "      <td>5</td>\n",
       "      <td>NaN</td>\n",
       "    </tr>\n",
       "    <tr>\n",
       "      <th>3</th>\n",
       "      <td>4.578519e+07</td>\n",
       "      <td>Townhouse in New York</td>\n",
       "      <td>9</td>\n",
       "      <td>bedrooms</td>\n",
       "      <td>9</td>\n",
       "      <td>6.5</td>\n",
       "      <td>baths</td>\n",
       "      <td>Outsite</td>\n",
       "      <td>Manhattan</td>\n",
       "      <td>Murray Hill</td>\n",
       "      <td>...</td>\n",
       "      <td>Entire home/apt</td>\n",
       "      <td>1500</td>\n",
       "      <td>30</td>\n",
       "      <td>2</td>\n",
       "      <td>8/14/2021</td>\n",
       "      <td>0.06</td>\n",
       "      <td>13</td>\n",
       "      <td>179</td>\n",
       "      <td>0</td>\n",
       "      <td>NaN</td>\n",
       "    </tr>\n",
       "    <tr>\n",
       "      <th>4</th>\n",
       "      <td>2.851497e+07</td>\n",
       "      <td>Rental unit in Brooklyn</td>\n",
       "      <td>9</td>\n",
       "      <td>bedrooms</td>\n",
       "      <td>1</td>\n",
       "      <td>1.0</td>\n",
       "      <td>shared</td>\n",
       "      <td>Leo</td>\n",
       "      <td>Brooklyn</td>\n",
       "      <td>Greenpoint</td>\n",
       "      <td>...</td>\n",
       "      <td>Private room</td>\n",
       "      <td>95</td>\n",
       "      <td>30</td>\n",
       "      <td>5</td>\n",
       "      <td>7/15/2021</td>\n",
       "      <td>0.08</td>\n",
       "      <td>2</td>\n",
       "      <td>0</td>\n",
       "      <td>0</td>\n",
       "      <td>NaN</td>\n",
       "    </tr>\n",
       "  </tbody>\n",
       "</table>\n",
       "<p>5 rows × 22 columns</p>\n",
       "</div>"
      ],
      "text/plain": [
       "             id                     name  num_bedrooms bedroom_type  \\\n",
       "0  8.187800e+17         Home in Brooklyn             9     bedrooms   \n",
       "1  7.449090e+17  Rental unit in New York             9     bedrooms   \n",
       "2  3.486668e+07         Home in Brooklyn             9     bedrooms   \n",
       "3  4.578519e+07   Townhouse in New York              9     bedrooms   \n",
       "4  2.851497e+07  Rental unit in Brooklyn             9     bedrooms   \n",
       "\n",
       "   num_of_beds  num_of_bathrooms bathroom_type host_name neighborhood_group  \\\n",
       "0           11               4.0         baths      Ming           Brooklyn   \n",
       "1           12               3.0         baths      Jude          Manhattan   \n",
       "2           11               4.0         baths    Philip           Brooklyn   \n",
       "3            9               6.5         baths   Outsite          Manhattan   \n",
       "4            1               1.0        shared       Leo           Brooklyn   \n",
       "\n",
       "    neighborhood  ...        room_type  price minimum_nights  \\\n",
       "0  Crown Heights  ...  Entire home/apt    832             30   \n",
       "1         Harlem  ...  Entire home/apt    959              1   \n",
       "2  Crown Heights  ...  Entire home/apt    754             30   \n",
       "3    Murray Hill  ...  Entire home/apt   1500             30   \n",
       "4     Greenpoint  ...     Private room     95             30   \n",
       "\n",
       "   number_of_reviews  last_review  reviews_per_month  \\\n",
       "0                  7    10/8/2023               0.77   \n",
       "1                  4    10/5/2023               0.55   \n",
       "2                 31     9/3/2023               0.58   \n",
       "3                  2    8/14/2021               0.06   \n",
       "4                  5    7/15/2021               0.08   \n",
       "\n",
       "  calculated_host_listings_count  availability_365  number_of_reviews_ltm  \\\n",
       "0                              3                14                      7   \n",
       "1                             12               334                      4   \n",
       "2                              4               240                      5   \n",
       "3                             13               179                      0   \n",
       "4                              2                 0                      0   \n",
       "\n",
       "   license  \n",
       "0      NaN  \n",
       "1   Exempt  \n",
       "2      NaN  \n",
       "3      NaN  \n",
       "4      NaN  \n",
       "\n",
       "[5 rows x 22 columns]"
      ]
     },
     "execution_count": 616,
     "metadata": {},
     "output_type": "execute_result"
    }
   ],
   "source": [
    "# Fix spelling errors\n",
    "airbnb_df = airbnb_df.rename(columns={'neighbourhood_group': 'neighborhood_group',\n",
    "                          'neighbourhood': 'neighborhood'})\n",
    "airbnb_df.head()"
   ]
  },
  {
   "cell_type": "code",
   "execution_count": 617,
   "metadata": {},
   "outputs": [
    {
     "data": {
      "text/plain": [
       "0     baths\n",
       "1     baths\n",
       "2     baths\n",
       "3     baths\n",
       "4    shared\n",
       "Name: bathroom_type, dtype: object"
      ]
     },
     "execution_count": 617,
     "metadata": {},
     "output_type": "execute_result"
    }
   ],
   "source": [
    "# Retrieve bathroom type data\n",
    "bath_type = airbnb_df['bathroom_type']\n",
    "bath_type.head()"
   ]
  },
  {
   "cell_type": "code",
   "execution_count": 618,
   "metadata": {},
   "outputs": [
    {
     "data": {
      "text/plain": [
       "0    bedrooms\n",
       "1    bedrooms\n",
       "2    bedrooms\n",
       "3    bedrooms\n",
       "4    bedrooms\n",
       "Name: bedroom_type, dtype: object"
      ]
     },
     "execution_count": 618,
     "metadata": {},
     "output_type": "execute_result"
    }
   ],
   "source": [
    "# Retrieve bedroom type data\n",
    "bed_type = airbnb_df['bedroom_type']\n",
    "bed_type.head()"
   ]
  },
  {
   "cell_type": "code",
   "execution_count": 619,
   "metadata": {},
   "outputs": [
    {
     "data": {
      "text/plain": [
       "0    11\n",
       "1    12\n",
       "2    11\n",
       "3     9\n",
       "4     1\n",
       "Name: num_of_beds, dtype: int64"
      ]
     },
     "execution_count": 619,
     "metadata": {},
     "output_type": "execute_result"
    }
   ],
   "source": [
    "# Retrieve number of beds data\n",
    "num_of_beds = airbnb_df['num_of_beds']\n",
    "num_of_beds.head()"
   ]
  },
  {
   "cell_type": "code",
   "execution_count": 620,
   "metadata": {},
   "outputs": [
    {
     "data": {
      "text/plain": [
       "0    9\n",
       "1    9\n",
       "2    9\n",
       "3    9\n",
       "4    9\n",
       "Name: num_bedrooms, dtype: int64"
      ]
     },
     "execution_count": 620,
     "metadata": {},
     "output_type": "execute_result"
    }
   ],
   "source": [
    "# Retrieve number of bedrooms data\n",
    "num_bedrooms = airbnb_df['num_bedrooms']\n",
    "num_bedrooms.head()"
   ]
  },
  {
   "cell_type": "code",
   "execution_count": 621,
   "metadata": {},
   "outputs": [
    {
     "data": {
      "text/plain": [
       "0    9\n",
       "1    9\n",
       "2    9\n",
       "3    9\n",
       "4    9\n",
       "Name: num_bedrooms, dtype: int64"
      ]
     },
     "execution_count": 621,
     "metadata": {},
     "output_type": "execute_result"
    }
   ],
   "source": [
    "# Retrieve number of bathrooms data\n",
    "num_bathrooms = airbnb_df['num_of_bathrooms']\n",
    "num_bedrooms.head()"
   ]
  },
  {
   "cell_type": "code",
   "execution_count": 622,
   "metadata": {},
   "outputs": [
    {
     "data": {
      "text/plain": [
       "0     Brooklyn\n",
       "1    Manhattan\n",
       "2     Brooklyn\n",
       "3    Manhattan\n",
       "4     Brooklyn\n",
       "Name: neighborhood_group, dtype: object"
      ]
     },
     "execution_count": 622,
     "metadata": {},
     "output_type": "execute_result"
    }
   ],
   "source": [
    "# Retrieve neighborhood group data\n",
    "neighborhood_group = airbnb_df['neighborhood_group']\n",
    "neighborhood_group.head()"
   ]
  },
  {
   "cell_type": "code",
   "execution_count": 623,
   "metadata": {},
   "outputs": [
    {
     "data": {
      "text/plain": [
       "0    Crown Heights\n",
       "1           Harlem\n",
       "2    Crown Heights\n",
       "3      Murray Hill\n",
       "4       Greenpoint\n",
       "Name: neighborhood, dtype: object"
      ]
     },
     "execution_count": 623,
     "metadata": {},
     "output_type": "execute_result"
    }
   ],
   "source": [
    "# Retrieve neghborhood data\n",
    "neighborhood = airbnb_df['neighborhood']\n",
    "neighborhood.head()"
   ]
  },
  {
   "cell_type": "code",
   "execution_count": 624,
   "metadata": {},
   "outputs": [
    {
     "data": {
      "text/plain": [
       "0    Entire home/apt\n",
       "1    Entire home/apt\n",
       "2    Entire home/apt\n",
       "3    Entire home/apt\n",
       "4       Private room\n",
       "Name: room_type, dtype: object"
      ]
     },
     "execution_count": 624,
     "metadata": {},
     "output_type": "execute_result"
    }
   ],
   "source": [
    "# Retrieve room type data\n",
    "room_type = airbnb_df['room_type']\n",
    "room_type.head()"
   ]
  },
  {
   "cell_type": "code",
   "execution_count": 625,
   "metadata": {},
   "outputs": [
    {
     "data": {
      "text/plain": [
       "0     832\n",
       "1     959\n",
       "2     754\n",
       "3    1500\n",
       "4      95\n",
       "Name: price, dtype: int64"
      ]
     },
     "execution_count": 625,
     "metadata": {},
     "output_type": "execute_result"
    }
   ],
   "source": [
    "# Retrieve price data\n",
    "price = airbnb_df['price']\n",
    "price.head()"
   ]
  },
  {
   "cell_type": "code",
   "execution_count": 626,
   "metadata": {},
   "outputs": [
    {
     "data": {
      "text/plain": [
       "0    30\n",
       "1     1\n",
       "2    30\n",
       "3    30\n",
       "4    30\n",
       "Name: minimum_nights, dtype: int64"
      ]
     },
     "execution_count": 626,
     "metadata": {},
     "output_type": "execute_result"
    }
   ],
   "source": [
    "# Retrieve minimum nights data\n",
    "min_nights = airbnb_df['minimum_nights']\n",
    "min_nights.head()"
   ]
  },
  {
   "cell_type": "code",
   "execution_count": 627,
   "metadata": {},
   "outputs": [
    {
     "data": {
      "text/plain": [
       "0     7\n",
       "1     4\n",
       "2    31\n",
       "3     2\n",
       "4     5\n",
       "Name: number_of_reviews, dtype: int64"
      ]
     },
     "execution_count": 627,
     "metadata": {},
     "output_type": "execute_result"
    }
   ],
   "source": [
    "# Retrieve number of reviews data\n",
    "num_of_reviews = airbnb_df['number_of_reviews']\n",
    "num_of_reviews.head()"
   ]
  },
  {
   "cell_type": "code",
   "execution_count": 628,
   "metadata": {},
   "outputs": [
    {
     "data": {
      "text/plain": [
       "array(['Entire home/apt', 'Private room', 'Shared room', 'Hotel room'],\n",
       "      dtype=object)"
      ]
     },
     "execution_count": 628,
     "metadata": {},
     "output_type": "execute_result"
    }
   ],
   "source": [
    "room_type.unique()"
   ]
  },
  {
   "cell_type": "code",
   "execution_count": 629,
   "metadata": {},
   "outputs": [],
   "source": [
    "Shared_Room = []\n",
    "Hotel_Room = []\n",
    "Homes_or_Apartments = []\n",
    "Private_Rooms = []\n",
    "\n",
    "for place in room_type:\n",
    "    if place == 'Private room':\n",
    "        Private_Rooms.append(place)\n",
    "    elif place == 'Hotel room':\n",
    "        Hotel_Room.append(place)\n",
    "    elif place == 'Entire home/apt':\n",
    "        Homes_or_Apartments.append(place)\n",
    "    elif place == 'Shared room':\n",
    "        Shared_Room.append(place)\n"
   ]
  },
  {
   "cell_type": "code",
   "execution_count": 630,
   "metadata": {},
   "outputs": [
    {
     "data": {
      "text/plain": [
       "[8473, 112, 11282, 280]"
      ]
     },
     "execution_count": 630,
     "metadata": {},
     "output_type": "execute_result"
    }
   ],
   "source": [
    "private_rooms = len(Private_Rooms)\n",
    "hotel_room = len(Hotel_Room)\n",
    "homes_or_apartments = len(Homes_or_Apartments)\n",
    "shared_room = len(Shared_Room)\n",
    "\n",
    "list_of_values = [private_rooms, hotel_room, homes_or_apartments, shared_room]\n",
    "list_of_values"
   ]
  },
  {
   "cell_type": "code",
   "execution_count": 631,
   "metadata": {},
   "outputs": [],
   "source": [
    "sizes = list_of_values\n",
    "\n",
    "labels = ['Private Rooms', 'Hotel Rooms', 'Homes or Apartments', 'Shared Rooms']\n",
    "\n",
    "colors = ['orange', 'purple', 'blue', 'green']\n",
    "\n",
    "explode = (0.1, 0.1, 0.1, 0.1)"
   ]
  },
  {
   "cell_type": "code",
   "execution_count": 632,
   "metadata": {},
   "outputs": [
    {
     "data": {
      "image/png": "[encoded data removed]",
      "text/plain": [
       "<Figure size 640x480 with 1 Axes>"
      ]
     },
     "metadata": {},
     "output_type": "display_data"
    }
   ],
   "source": [
    "plt.pie(sizes, explode=explode, labels=labels,colors=colors,\n",
    "        autopct=\"%1.1f%%\", pctdistance = 1.3,shadow=False, startangle=140)\n",
    "plt.title(\"Room Types\")\n",
    "#plt.figure(facecolor=\"blue\")\n",
    "#ax.set_facecolor(\"violet\")\n",
    "#Pie Chart push % outside of pie\n",
    "#fig, ax = plt.subplots()\n",
    "#ax.pie(value, autopct = '%1.1f%%', pctdistance = 1.1)\n",
    "plt.savefig(\"Airbnb_Room_Types_Pie_Chart1.png\", transparent=True)\n",
    "plt.show()"
   ]
  },
  {
   "cell_type": "code",
   "execution_count": 633,
   "metadata": {},
   "outputs": [
    {
     "data": {
      "text/html": [
       "<div>\n",
       "<style scoped>\n",
       "    .dataframe tbody tr th:only-of-type {\n",
       "        vertical-align: middle;\n",
       "    }\n",
       "\n",
       "    .dataframe tbody tr th {\n",
       "        vertical-align: top;\n",
       "    }\n",
       "\n",
       "    .dataframe thead th {\n",
       "        text-align: right;\n",
       "    }\n",
       "</style>\n",
       "<table border=\"1\" class=\"dataframe\">\n",
       "  <thead>\n",
       "    <tr style=\"text-align: right;\">\n",
       "      <th></th>\n",
       "      <th>id</th>\n",
       "      <th>name</th>\n",
       "      <th>num_bedrooms</th>\n",
       "      <th>bedroom_type</th>\n",
       "      <th>num_of_beds</th>\n",
       "      <th>num_of_bathrooms</th>\n",
       "      <th>bathroom_type</th>\n",
       "      <th>host_name</th>\n",
       "      <th>neighborhood_group</th>\n",
       "      <th>neighborhood</th>\n",
       "      <th>...</th>\n",
       "      <th>room_type</th>\n",
       "      <th>price</th>\n",
       "      <th>minimum_nights</th>\n",
       "      <th>number_of_reviews</th>\n",
       "      <th>last_review</th>\n",
       "      <th>reviews_per_month</th>\n",
       "      <th>calculated_host_listings_count</th>\n",
       "      <th>availability_365</th>\n",
       "      <th>number_of_reviews_ltm</th>\n",
       "      <th>license</th>\n",
       "    </tr>\n",
       "  </thead>\n",
       "  <tbody>\n",
       "    <tr>\n",
       "      <th>0</th>\n",
       "      <td>8.187800e+17</td>\n",
       "      <td>Home in Brooklyn</td>\n",
       "      <td>9</td>\n",
       "      <td>bedrooms</td>\n",
       "      <td>11</td>\n",
       "      <td>4.0</td>\n",
       "      <td>baths</td>\n",
       "      <td>Ming</td>\n",
       "      <td>Brooklyn</td>\n",
       "      <td>Crown Heights</td>\n",
       "      <td>...</td>\n",
       "      <td>Entire home/apt</td>\n",
       "      <td>832</td>\n",
       "      <td>30</td>\n",
       "      <td>7</td>\n",
       "      <td>10/8/2023</td>\n",
       "      <td>0.77</td>\n",
       "      <td>3</td>\n",
       "      <td>14</td>\n",
       "      <td>7</td>\n",
       "      <td>NaN</td>\n",
       "    </tr>\n",
       "    <tr>\n",
       "      <th>1</th>\n",
       "      <td>7.449090e+17</td>\n",
       "      <td>Rental unit in New York</td>\n",
       "      <td>9</td>\n",
       "      <td>bedrooms</td>\n",
       "      <td>12</td>\n",
       "      <td>3.0</td>\n",
       "      <td>baths</td>\n",
       "      <td>Jude</td>\n",
       "      <td>Manhattan</td>\n",
       "      <td>Harlem</td>\n",
       "      <td>...</td>\n",
       "      <td>Entire home/apt</td>\n",
       "      <td>959</td>\n",
       "      <td>1</td>\n",
       "      <td>4</td>\n",
       "      <td>10/5/2023</td>\n",
       "      <td>0.55</td>\n",
       "      <td>12</td>\n",
       "      <td>334</td>\n",
       "      <td>4</td>\n",
       "      <td>Exempt</td>\n",
       "    </tr>\n",
       "    <tr>\n",
       "      <th>2</th>\n",
       "      <td>3.486668e+07</td>\n",
       "      <td>Home in Brooklyn</td>\n",
       "      <td>9</td>\n",
       "      <td>bedrooms</td>\n",
       "      <td>11</td>\n",
       "      <td>4.0</td>\n",
       "      <td>baths</td>\n",
       "      <td>Philip</td>\n",
       "      <td>Brooklyn</td>\n",
       "      <td>Crown Heights</td>\n",
       "      <td>...</td>\n",
       "      <td>Entire home/apt</td>\n",
       "      <td>754</td>\n",
       "      <td>30</td>\n",
       "      <td>31</td>\n",
       "      <td>9/3/2023</td>\n",
       "      <td>0.58</td>\n",
       "      <td>4</td>\n",
       "      <td>240</td>\n",
       "      <td>5</td>\n",
       "      <td>NaN</td>\n",
       "    </tr>\n",
       "    <tr>\n",
       "      <th>3</th>\n",
       "      <td>4.578519e+07</td>\n",
       "      <td>Townhouse in New York</td>\n",
       "      <td>9</td>\n",
       "      <td>bedrooms</td>\n",
       "      <td>9</td>\n",
       "      <td>6.5</td>\n",
       "      <td>baths</td>\n",
       "      <td>Outsite</td>\n",
       "      <td>Manhattan</td>\n",
       "      <td>Murray Hill</td>\n",
       "      <td>...</td>\n",
       "      <td>Entire home/apt</td>\n",
       "      <td>1500</td>\n",
       "      <td>30</td>\n",
       "      <td>2</td>\n",
       "      <td>8/14/2021</td>\n",
       "      <td>0.06</td>\n",
       "      <td>13</td>\n",
       "      <td>179</td>\n",
       "      <td>0</td>\n",
       "      <td>NaN</td>\n",
       "    </tr>\n",
       "    <tr>\n",
       "      <th>4</th>\n",
       "      <td>2.851497e+07</td>\n",
       "      <td>Rental unit in Brooklyn</td>\n",
       "      <td>9</td>\n",
       "      <td>bedrooms</td>\n",
       "      <td>1</td>\n",
       "      <td>1.0</td>\n",
       "      <td>shared</td>\n",
       "      <td>Leo</td>\n",
       "      <td>Brooklyn</td>\n",
       "      <td>Greenpoint</td>\n",
       "      <td>...</td>\n",
       "      <td>Private room</td>\n",
       "      <td>95</td>\n",
       "      <td>30</td>\n",
       "      <td>5</td>\n",
       "      <td>7/15/2021</td>\n",
       "      <td>0.08</td>\n",
       "      <td>2</td>\n",
       "      <td>0</td>\n",
       "      <td>0</td>\n",
       "      <td>NaN</td>\n",
       "    </tr>\n",
       "    <tr>\n",
       "      <th>...</th>\n",
       "      <td>...</td>\n",
       "      <td>...</td>\n",
       "      <td>...</td>\n",
       "      <td>...</td>\n",
       "      <td>...</td>\n",
       "      <td>...</td>\n",
       "      <td>...</td>\n",
       "      <td>...</td>\n",
       "      <td>...</td>\n",
       "      <td>...</td>\n",
       "      <td>...</td>\n",
       "      <td>...</td>\n",
       "      <td>...</td>\n",
       "      <td>...</td>\n",
       "      <td>...</td>\n",
       "      <td>...</td>\n",
       "      <td>...</td>\n",
       "      <td>...</td>\n",
       "      <td>...</td>\n",
       "      <td>...</td>\n",
       "      <td>...</td>\n",
       "    </tr>\n",
       "    <tr>\n",
       "      <th>20142</th>\n",
       "      <td>4.037120e+05</td>\n",
       "      <td>Rental unit in New York</td>\n",
       "      <td>1</td>\n",
       "      <td>bedroom</td>\n",
       "      <td>1</td>\n",
       "      <td>1.0</td>\n",
       "      <td>bath</td>\n",
       "      <td>Giovanni</td>\n",
       "      <td>Manhattan</td>\n",
       "      <td>East Village</td>\n",
       "      <td>...</td>\n",
       "      <td>Entire home/apt</td>\n",
       "      <td>300</td>\n",
       "      <td>30</td>\n",
       "      <td>6</td>\n",
       "      <td>10/29/2012</td>\n",
       "      <td>0.04</td>\n",
       "      <td>1</td>\n",
       "      <td>0</td>\n",
       "      <td>0</td>\n",
       "      <td>NaN</td>\n",
       "    </tr>\n",
       "    <tr>\n",
       "      <th>20143</th>\n",
       "      <td>7.565800e+04</td>\n",
       "      <td>Loft in Brooklyn</td>\n",
       "      <td>1</td>\n",
       "      <td>bedroom</td>\n",
       "      <td>1</td>\n",
       "      <td>1.0</td>\n",
       "      <td>shared</td>\n",
       "      <td>Noemi</td>\n",
       "      <td>Brooklyn</td>\n",
       "      <td>Bedford-Stuyvesant</td>\n",
       "      <td>...</td>\n",
       "      <td>Private room</td>\n",
       "      <td>221</td>\n",
       "      <td>30</td>\n",
       "      <td>20</td>\n",
       "      <td>9/30/2012</td>\n",
       "      <td>0.13</td>\n",
       "      <td>1</td>\n",
       "      <td>364</td>\n",
       "      <td>0</td>\n",
       "      <td>NaN</td>\n",
       "    </tr>\n",
       "    <tr>\n",
       "      <th>20144</th>\n",
       "      <td>5.133430e+05</td>\n",
       "      <td>Rental unit in Brooklyn</td>\n",
       "      <td>1</td>\n",
       "      <td>bedroom</td>\n",
       "      <td>2</td>\n",
       "      <td>1.0</td>\n",
       "      <td>bath</td>\n",
       "      <td>Dennis</td>\n",
       "      <td>Brooklyn</td>\n",
       "      <td>Prospect Heights</td>\n",
       "      <td>...</td>\n",
       "      <td>Entire home/apt</td>\n",
       "      <td>125</td>\n",
       "      <td>30</td>\n",
       "      <td>1</td>\n",
       "      <td>7/11/2012</td>\n",
       "      <td>0.01</td>\n",
       "      <td>1</td>\n",
       "      <td>298</td>\n",
       "      <td>0</td>\n",
       "      <td>NaN</td>\n",
       "    </tr>\n",
       "    <tr>\n",
       "      <th>20145</th>\n",
       "      <td>4.565780e+05</td>\n",
       "      <td>Rental unit in New York</td>\n",
       "      <td>1</td>\n",
       "      <td>bedroom</td>\n",
       "      <td>1</td>\n",
       "      <td>1.0</td>\n",
       "      <td>shared</td>\n",
       "      <td>Helen</td>\n",
       "      <td>Manhattan</td>\n",
       "      <td>Washington Heights</td>\n",
       "      <td>...</td>\n",
       "      <td>Private room</td>\n",
       "      <td>100</td>\n",
       "      <td>30</td>\n",
       "      <td>1</td>\n",
       "      <td>6/1/2012</td>\n",
       "      <td>0.01</td>\n",
       "      <td>1</td>\n",
       "      <td>87</td>\n",
       "      <td>0</td>\n",
       "      <td>NaN</td>\n",
       "    </tr>\n",
       "    <tr>\n",
       "      <th>20146</th>\n",
       "      <td>2.788300e+04</td>\n",
       "      <td>Rental unit in New York</td>\n",
       "      <td>1</td>\n",
       "      <td>Studio</td>\n",
       "      <td>2</td>\n",
       "      <td>1.0</td>\n",
       "      <td>bath</td>\n",
       "      <td>Jen</td>\n",
       "      <td>Manhattan</td>\n",
       "      <td>East Village</td>\n",
       "      <td>...</td>\n",
       "      <td>Entire home/apt</td>\n",
       "      <td>100</td>\n",
       "      <td>30</td>\n",
       "      <td>25</td>\n",
       "      <td>12/10/2011</td>\n",
       "      <td>0.15</td>\n",
       "      <td>1</td>\n",
       "      <td>0</td>\n",
       "      <td>0</td>\n",
       "      <td>NaN</td>\n",
       "    </tr>\n",
       "  </tbody>\n",
       "</table>\n",
       "<p>20147 rows × 22 columns</p>\n",
       "</div>"
      ],
      "text/plain": [
       "                 id                      name  num_bedrooms bedroom_type  \\\n",
       "0      8.187800e+17          Home in Brooklyn             9     bedrooms   \n",
       "1      7.449090e+17   Rental unit in New York             9     bedrooms   \n",
       "2      3.486668e+07          Home in Brooklyn             9     bedrooms   \n",
       "3      4.578519e+07    Townhouse in New York              9     bedrooms   \n",
       "4      2.851497e+07   Rental unit in Brooklyn             9     bedrooms   \n",
       "...             ...                       ...           ...          ...   \n",
       "20142  4.037120e+05   Rental unit in New York             1      bedroom   \n",
       "20143  7.565800e+04          Loft in Brooklyn             1      bedroom   \n",
       "20144  5.133430e+05  Rental unit in Brooklyn              1      bedroom   \n",
       "20145  4.565780e+05  Rental unit in New York              1      bedroom   \n",
       "20146  2.788300e+04   Rental unit in New York             1      Studio    \n",
       "\n",
       "       num_of_beds  num_of_bathrooms bathroom_type host_name  \\\n",
       "0               11               4.0         baths      Ming   \n",
       "1               12               3.0         baths      Jude   \n",
       "2               11               4.0         baths    Philip   \n",
       "3                9               6.5         baths   Outsite   \n",
       "4                1               1.0        shared       Leo   \n",
       "...            ...               ...           ...       ...   \n",
       "20142            1               1.0          bath  Giovanni   \n",
       "20143            1               1.0        shared     Noemi   \n",
       "20144            2               1.0          bath    Dennis   \n",
       "20145            1               1.0        shared     Helen   \n",
       "20146            2               1.0          bath       Jen   \n",
       "\n",
       "      neighborhood_group        neighborhood  ...        room_type  price  \\\n",
       "0               Brooklyn       Crown Heights  ...  Entire home/apt    832   \n",
       "1              Manhattan              Harlem  ...  Entire home/apt    959   \n",
       "2               Brooklyn       Crown Heights  ...  Entire home/apt    754   \n",
       "3              Manhattan         Murray Hill  ...  Entire home/apt   1500   \n",
       "4               Brooklyn          Greenpoint  ...     Private room     95   \n",
       "...                  ...                 ...  ...              ...    ...   \n",
       "20142          Manhattan        East Village  ...  Entire home/apt    300   \n",
       "20143           Brooklyn  Bedford-Stuyvesant  ...     Private room    221   \n",
       "20144           Brooklyn    Prospect Heights  ...  Entire home/apt    125   \n",
       "20145          Manhattan  Washington Heights  ...     Private room    100   \n",
       "20146          Manhattan        East Village  ...  Entire home/apt    100   \n",
       "\n",
       "      minimum_nights  number_of_reviews  last_review  reviews_per_month  \\\n",
       "0                 30                  7    10/8/2023               0.77   \n",
       "1                  1                  4    10/5/2023               0.55   \n",
       "2                 30                 31     9/3/2023               0.58   \n",
       "3                 30                  2    8/14/2021               0.06   \n",
       "4                 30                  5    7/15/2021               0.08   \n",
       "...              ...                ...          ...                ...   \n",
       "20142             30                  6   10/29/2012               0.04   \n",
       "20143             30                 20    9/30/2012               0.13   \n",
       "20144             30                  1    7/11/2012               0.01   \n",
       "20145             30                  1     6/1/2012               0.01   \n",
       "20146             30                 25   12/10/2011               0.15   \n",
       "\n",
       "      calculated_host_listings_count  availability_365  number_of_reviews_ltm  \\\n",
       "0                                  3                14                      7   \n",
       "1                                 12               334                      4   \n",
       "2                                  4               240                      5   \n",
       "3                                 13               179                      0   \n",
       "4                                  2                 0                      0   \n",
       "...                              ...               ...                    ...   \n",
       "20142                              1                 0                      0   \n",
       "20143                              1               364                      0   \n",
       "20144                              1               298                      0   \n",
       "20145                              1                87                      0   \n",
       "20146                              1                 0                      0   \n",
       "\n",
       "       license  \n",
       "0          NaN  \n",
       "1       Exempt  \n",
       "2          NaN  \n",
       "3          NaN  \n",
       "4          NaN  \n",
       "...        ...  \n",
       "20142      NaN  \n",
       "20143      NaN  \n",
       "20144      NaN  \n",
       "20145      NaN  \n",
       "20146      NaN  \n",
       "\n",
       "[20147 rows x 22 columns]"
      ]
     },
     "execution_count": 633,
     "metadata": {},
     "output_type": "execute_result"
    }
   ],
   "source": [
    "airbnb_df\n"
   ]
  },
  {
   "cell_type": "code",
   "execution_count": 634,
   "metadata": {},
   "outputs": [
    {
     "data": {
      "text/plain": [
       "array(['Entire home/apt', 'Private room', 'Shared room', 'Hotel room'],\n",
       "      dtype=object)"
      ]
     },
     "execution_count": 634,
     "metadata": {},
     "output_type": "execute_result"
    }
   ],
   "source": [
    "room_types = airbnb_df['room_type'].unique()\n",
    "room_types"
   ]
  },
  {
   "cell_type": "code",
   "execution_count": 635,
   "metadata": {},
   "outputs": [
    {
     "data": {
      "image/png": "[encoded data removed]",
      "text/plain": [
       "<Figure size 640x480 with 1 Axes>"
      ]
     },
     "metadata": {},
     "output_type": "display_data"
    },
    {
     "data": {
      "text/plain": [
       "<Figure size 640x480 with 0 Axes>"
      ]
     },
     "metadata": {},
     "output_type": "display_data"
    }
   ],
   "source": [
    "room_types = airbnb_df[\"room_type\"].value_counts()\n",
    "room_types.plot(kind=\"pie\",autopct=\"%1.1f%%\",pctdistance = 0.4, shadow=False, colors=['powderblue', 'coral', 'red', 'purple'],explode=room_explode)\n",
    "#plt.figure(figsize=(10, 6))\n",
    "plt.title(\"Room Types\")\n",
    "plt.show()\n",
    "plt.savefig(fname=\"Airbnb_Room_Types_Pie_Chart_alt1.png\", transparent=True) "
   ]
  },
  {
   "cell_type": "code",
   "execution_count": 636,
   "metadata": {},
   "outputs": [
    {
     "name": "stdout",
     "output_type": "stream",
     "text": [
      "                     count        mean          std   min    25%    50%  \\\n",
      "neighborhood_group                                                        \n",
      "Bronx                918.0  119.549020   335.778666  24.0   59.0   90.0   \n",
      "Brooklyn            7487.0  187.075731  1642.848690  10.0   79.0  125.0   \n",
      "Manhattan           7809.0  228.231144   378.671430  10.0  100.0  150.0   \n",
      "Queens              3648.0  126.929550   201.039048  17.0   62.0   98.0   \n",
      "Staten Island        285.0  119.224561    92.003208  33.0   70.0   99.0   \n",
      "\n",
      "                      75%       max  \n",
      "neighborhood_group                   \n",
      "Bronx               129.0    9994.0  \n",
      "Brooklyn            195.0  100000.0  \n",
      "Manhattan           245.0   10000.0  \n",
      "Queens              150.0   10000.0  \n",
      "Staten Island       139.0    1000.0  \n"
     ]
    }
   ],
   "source": [
    "summary_stats = airbnb_df.groupby('neighborhood_group')['price'].describe()\n",
    "print(summary_stats)"
   ]
  },
  {
   "cell_type": "code",
   "execution_count": null,
   "metadata": {},
   "outputs": [],
   "source": []
  },
  {
   "cell_type": "code",
   "execution_count": 649,
   "metadata": {},
   "outputs": [
    {
     "data": {
      "image/png": "[encoded data removed]",
      "text/plain": [
       "<Figure size 1000x600 with 1 Axes>"
      ]
     },
     "metadata": {},
     "output_type": "display_data"
    }
   ],
   "source": [
    "plt.figure(figsize=(10, 6))\n",
    "summary_stats['mean'].plot(kind='bar', color=['red','green','blue','purple','orange'])\n",
    "plt.title('Mean Price by Neighborhood Group')\n",
    "plt.xlabel('Neighborhood Group')\n",
    "plt.ylabel('Mean Price')\n",
    "plt.xticks(rotation=45)\n",
    "plt.grid(axis='y', linestyle='--', alpha=0.7)\n",
    "plt.savefig(fname=\"Airbnb_meanprice_bynieghborhood.png\", transparent=True) \n",
    "plt.show()"
   ]
  },
  {
   "cell_type": "code",
   "execution_count": 638,
   "metadata": {},
   "outputs": [
    {
     "data": {
      "text/plain": [
       "array([9, 8, 7, 6, 5, 4, 3, 2, 1], dtype=int64)"
      ]
     },
     "execution_count": 638,
     "metadata": {},
     "output_type": "execute_result"
    }
   ],
   "source": [
    "room_types = airbnb_df['num_bedrooms'].unique()\n",
    "room_types"
   ]
  },
  {
   "cell_type": "code",
   "execution_count": 639,
   "metadata": {},
   "outputs": [],
   "source": [
    "beds_explode =  (0.1, 0.1, 0.1, 0.1,0.3,0.1,0.1,0.2,0.3)"
   ]
  },
  {
   "cell_type": "code",
   "execution_count": 640,
   "metadata": {},
   "outputs": [
    {
     "data": {
      "image/png": "[encoded data removed]",
      "text/plain": [
       "<Figure size 640x480 with 1 Axes>"
      ]
     },
     "metadata": {},
     "output_type": "display_data"
    },
    {
     "data": {
      "text/plain": [
       "<Figure size 60000x60000 with 0 Axes>"
      ]
     },
     "metadata": {},
     "output_type": "display_data"
    },
    {
     "data": {
      "text/plain": [
       "<Figure size 640x480 with 0 Axes>"
      ]
     },
     "metadata": {},
     "output_type": "display_data"
    }
   ],
   "source": [
    "room_types = airbnb_df[\"num_bedrooms\"].value_counts(ascending=False)\n",
    "room_types.plot(kind=\"pie\",autopct=\"%1.1f%%\", pctdistance = 0.75,colors=['powderblue', 'coral', 'palegreen', 'moccasin','purple','green','red'],explode=beds_explode)\n",
    "plt.title(\"Number of Bedrooms\")\n",
    "plt.legend(title=\"# of Bedrooms:\")\n",
    "plt.figure(figsize=(600,600))\n",
    "plt.show()\n",
    "plt.savefig(fname=\"Airbnb_Number_of_Rooms_Types_Pie_Chart1.png\", transparent=True) "
   ]
  },
  {
   "cell_type": "code",
   "execution_count": 641,
   "metadata": {},
   "outputs": [
    {
     "name": "stdout",
     "output_type": "stream",
     "text": [
      "                     count      mean       std  min  25%  50%  75%  max\n",
      "neighborhood_group                                                     \n",
      "Bronx                918.0  1.335512  0.705688  1.0  1.0  1.0  1.0  6.0\n",
      "Brooklyn            7487.0  1.463871  0.843322  1.0  1.0  1.0  2.0  9.0\n",
      "Manhattan           7809.0  1.340120  0.722040  1.0  1.0  1.0  1.0  9.0\n",
      "Queens              3648.0  1.391996  0.762690  1.0  1.0  1.0  2.0  7.0\n",
      "Staten Island        285.0  1.501754  0.898452  1.0  1.0  1.0  2.0  6.0\n"
     ]
    }
   ],
   "source": [
    "summary_stats = airbnb_df.groupby('neighborhood_group')['num_bedrooms'].describe()\n",
    "print(summary_stats)"
   ]
  },
  {
   "cell_type": "code",
   "execution_count": 642,
   "metadata": {},
   "outputs": [],
   "source": [
    "import pandas as pd\n",
    "\n",
    "# Assuming airbnb_data is your DataFrame\n",
    "\n",
    "# Drop rows with price above 8000 for visualizations\n",
    "filtered_df = airbnb_df[airbnb_df['price'] <= 3000]\n",
    "\n",
    "\n"
   ]
  },
  {
   "cell_type": "code",
   "execution_count": 643,
   "metadata": {},
   "outputs": [
    {
     "data": {
      "image/png": "[encoded data removed]",
      "text/plain": [
       "<Figure size 1000x600 with 1 Axes>"
      ]
     },
     "metadata": {},
     "output_type": "display_data"
    }
   ],
   "source": [
    "# Visualization - Box plot\n",
    "import seaborn as sns\n",
    "\n",
    "plt.figure(figsize=(10, 6))\n",
    "sns.boxplot(x='neighborhood_group', y='price', data=filtered_df)\n",
    "plt.title('Distribution of Airbnb Prices by Borough')\n",
    "plt.xlabel('neighborhood_group')\n",
    "plt.ylabel('Price')\n",
    "plt.show()\n"
   ]
  },
  {
   "cell_type": "code",
   "execution_count": 644,
   "metadata": {},
   "outputs": [],
   "source": [
    "# Extract prices for each borough\n",
    "borough_prices = []\n",
    "for neighborhood_group, group_df in filtered_df.groupby('neighborhood_group'):\n",
    "    borough_prices.append(group_df['price'])"
   ]
  },
  {
   "cell_type": "code",
   "execution_count": 645,
   "metadata": {},
   "outputs": [
    {
     "name": "stdout",
     "output_type": "stream",
     "text": [
      "F-statistic: 245.15951969452334\n",
      "p-value: 5.682788488037132e-206\n",
      "Reject null hypothesis: There are significant differences in prices among boroughs.\n"
     ]
    }
   ],
   "source": [
    "# Perform ANOVA test\n",
    "f_statistic, p_value = f_oneway(*borough_prices)\n",
    "\n",
    "# Print results\n",
    "print(\"F-statistic:\", f_statistic)\n",
    "print(\"p-value:\", p_value)\n",
    "\n",
    "# Interpretation of results\n",
    "if p_value < 0.05:\n",
    "    print(\"Reject null hypothesis: There are significant differences in prices among boroughs.\")\n",
    "else:\n",
    "    print(\"Fail to reject null hypothesis: There are no significant differences in prices among boroughs.\")"
   ]
  },
  {
   "cell_type": "code",
   "execution_count": 646,
   "metadata": {},
   "outputs": [
    {
     "name": "stderr",
     "output_type": "stream",
     "text": [
      "C:\\Users\\jeff\\AppData\\Local\\Temp\\ipykernel_15968\\2008836847.py:3: FutureWarning: \n",
      "\n",
      "The `ci` parameter is deprecated. Use `errorbar='sd'` for the same effect.\n",
      "\n",
      "  sns.barplot(x='neighborhood_group', y='price', data=filtered_df, ci='sd')  # ci='sd' for error bars based on standard deviation\n"
     ]
    },
    {
     "data": {
      "image/png": "[encoded data removed]",
      "text/plain": [
       "<Figure size 1000x600 with 1 Axes>"
      ]
     },
     "metadata": {},
     "output_type": "display_data"
    }
   ],
   "source": [
    "# Bar plot\n",
    "plt.figure(figsize=(10, 6))\n",
    "sns.barplot(x='neighborhood_group', y='price', data=filtered_df, ci='sd')  # ci='sd' for error bars based on standard deviation\n",
    "plt.title('Mean Airbnb Prices by Borough')\n",
    "plt.xlabel('neighborhood_group')\n",
    "plt.ylabel('Mean Price')\n",
    "plt.xticks(rotation=45)\n",
    "plt.show()"
   ]
  }
 ],
 "metadata": {
  "kernelspec": {
   "display_name": "dev",
   "language": "python",
   "name": "python3"
  },
  "language_info": {
   "codemirror_mode": {
    "name": "ipython",
    "version": 3
   },
   "file_extension": ".py",
   "mimetype": "text/x-python",
   "name": "python",
   "nbconvert_exporter": "python",
   "pygments_lexer": "ipython3",
   "version": "3.10.13"
  }
 },
 "nbformat": 4,
 "nbformat_minor": 2
}
